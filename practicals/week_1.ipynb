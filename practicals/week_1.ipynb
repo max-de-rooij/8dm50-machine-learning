{
 "cells": [
  {
   "cell_type": "markdown",
   "metadata": {},
   "source": [
    "# Getting started with the practicals\n",
    "\n",
    "***These notebooks are best viewed in Jupyter. GitHub might not display all content of the notebook properly.***\n",
    "\n",
    "## Goal of the practical exercises\n",
    "\n",
    "The exercises have two goals:\n",
    "\n",
    "1. Give you the opportunity to obtain 'hands-on' experience in implementing, training and evaluation machine learning models in Python. This experience will also help you better understand the theory covered during the lectures. \n",
    "\n",
    "2. Occasionally demonstrate some 'exam-style' questions that you can use as a reference when studying for the exam. Note however that the example questions are (as the name suggests) only examples and do not constitute a complete and sufficient list of 'things that you have to learn for the exam'. You can recognize example questions as (parts of) exercises by <font color=\"#770a0a\">this font color</font>.\n",
    "\n",
    "For each set of exercises (one Python notebook such as this one $==$ one set of exercises) you have to submit deliverables that will then be graded and constitute 25% of the final grade. Thus, the work that you do during the practicals has double contribution towards the final grade: as 25% direct contribution and as a preparation for the exam that will define the other 65% of the grade.\n",
    "\n",
    "## Deliverables\n",
    "\n",
    "For each set of exercises, you have to submit:\n",
    "1. Python functions and/or classes (`.py` files) that implement basic functionalities (e.g. a $k$-NN classifier) and \n",
    "2. A *single* Python notebook that contains the experiments, visualization and answer to the questions and math problems. *Do not submit your answers as Word or PDF documents (they will not be graded)*. The submitted code and notebook should run without errors and be able to fully reproduce the reported results.\n",
    "\n",
    "We recommend that you clone the provided notebooks (such as this one) and write your code in them. The following rubric will be used when grading the practical work:\n",
    "\n",
    "Component  | Insufficient | Satisfactory | Excellent\n",
    "--- | --- | --- | ---\n",
    "**Code** | Missing or incomplete code structure, runs with errors, lacks documentation | Self-contained, does not result in errors, contains some documentation, can be easily used to reproduce the reported results | User-friendly, well-structured (good separation of general functionality and experiments, i.e. between `.py` files and the Pyhthon notebook), detailed documentation, optimized for speed, use of a version control system (such as GitHub)\n",
    "**Answers to questions** | Incorrect, does not convey understanding of the material, appears to be copied from another source | Correct, conveys good understanding of the material, description in own words | Correct, conveys excellent level of understanding, makes connections between topics\n",
    "\n",
    "## A word on notation\n",
    "\n",
    "When we refer to Python variables, we will use a monospace font. For example, `X` is a Python variable that contains the data matrix. When we refer to mathematical variables, we will use the de-facto standard notation: $a$ or $\\lambda$ is a scalar variable, $\\boldsymbol{\\mathrm{w}}$ is a vector and $\\boldsymbol{\\mathrm{X}}$ is a matrix (e.g. a data matrix from the example above). You should use the same notation when writing your answers and solutions.\n",
    "\n",
    "# Two simple machine learning models\n",
    "\n",
    "## Preliminaries\n",
    "\n",
    "Throughout the practical curriculum of this course, we will use the Python programming language and its ecosystem of libraries for scientific computing (such as `numpy`, `scipy`, `matplotlib`, `scikit-learn` etc). The practicals for the deep learning part of the course will use the `keras` deep learning framework. If you are not sufficiently familiar with this programming language and/or the listed libraries and packages, you are strongly advised to go over the corresponding tutorials from the ['Essential skills'](https://github.com/tueimage/essential-skills) module (the `scikit-learn` library is not covered by the tutorial, however, an extensive documentation is available [here](https://scikit-learn.org/stable/documentation.html).\n",
    "\n",
    "In this first set of exercises, we will use two toy datasets that ship together with `scikit-learn`. \n",
    "\n",
    "The first dataset is named `diabetes` and contains 442 patients described with 10 features: age, sex, body mass index, average blood pressure, and six blood serum measurements. The target variable is a continuous quantitative measure of the disease (diabetes) progression one year after the baseline measurements were recorded. More information is available [here](https://github.com/scikit-learn/scikit-learn/blob/master/sklearn/datasets/descr/diabetes.rst) and [here](https://www4.stat.ncsu.edu/~boos/var.select/diabetes.html).\n",
    "\n",
    "The second dataset is named `breast_cancer` and is a copy of the UCI ML Breast Cancer Wisconsin (Diagnostic) datasets (more infortmation is available [here](https://github.com/scikit-learn/scikit-learn/blob/master/sklearn/datasets/descr/breast_cancer.rst) and [here](https://archive.ics.uci.edu/ml/datasets/Breast+Cancer+Wisconsin+(Diagnostic)). The datasets contains of 569 instances represented with 30 features that are computed from a images of a fine needle aspirate of a breast mass. The features describe characteristics of the cell nuclei present in the image. Each instance is associated with a binary target variable ('malignant' or 'benign'). \n",
    "\n",
    "You can load the two datasets in the following way:"
   ]
  },
  {
   "cell_type": "code",
   "execution_count": 1,
   "metadata": {},
   "outputs": [],
   "source": [
    "import numpy as np\n",
    "from sklearn.datasets import load_diabetes, load_breast_cancer\n",
    "\n",
    "diabetes = load_diabetes()\n",
    "\n",
    "breast_cancer = load_breast_cancer()"
   ]
  },
  {
   "cell_type": "markdown",
   "metadata": {},
   "source": [
    "In the majority of the exercises in this course, we will use higher-level libraries and packages such as `scikit-learn` and `keras` to implement, train and evaluate machine learning models. However, the goal of this first set of exercises is to illustrate basic mathematical tools and machine learning concepts. Because of this, we will impose a restriction of only using basic `numpy` functionality. Furthermore, you should as much as possible restrict the use of for-loops (e.g. use a vector-to-matrix product instead of a for loop when appropriate).\n",
    "\n",
    "If `X` is a 2D data matrix, we will use the convention that the rows of the matrix contain the samples (or instances) and the columns contain the features (inputs to the model). That means that a data matrix with a shape `(122, 13)` represents a dataset with 122 samples, each represented with 13 features. Similarly, if `Y` is a 2D matrix containing the targets, the rows correspond to the samples and the columns to the different targets (outputs of the model). Thus, if the shape of `Y` is `(122, 3)` that means that there are 122 samples and each sample is has 3 targets (note that in the majority of the examples we will only have a single target and thus the number of columns of `Y` will be 1).\n",
    "\n",
    "You can obtain the data and target matrices from the two datasets in the following way:"
   ]
  },
  {
   "cell_type": "code",
   "execution_count": 2,
   "metadata": {
    "tags": []
   },
   "outputs": [
    {
     "output_type": "stream",
     "name": "stdout",
     "text": "(442, 10)\n(442, 1)\n"
    }
   ],
   "source": [
    "X = diabetes.data\n",
    "Y = diabetes.target[:, np.newaxis]\n",
    "\n",
    "print(X.shape)\n",
    "print(Y.shape)"
   ]
  },
  {
   "cell_type": "markdown",
   "metadata": {},
   "source": [
    "If you want to only use a subset of the available features, you can obtain a reduced data matrix in the following way:"
   ]
  },
  {
   "cell_type": "code",
   "execution_count": 3,
   "metadata": {
    "scrolled": true,
    "tags": []
   },
   "outputs": [
    {
     "output_type": "stream",
     "name": "stdout",
     "text": "(442, 1)\n(442, 2)\n"
    }
   ],
   "source": [
    "# use only the fourth feature\n",
    "X = diabetes.data[:,np.newaxis, 3]\n",
    "print(X.shape)\n",
    "\n",
    "# use the third, and tenth features\n",
    "X = diabetes.data[:, (3,9)]\n",
    "print(X.shape)"
   ]
  },
  {
   "cell_type": "markdown",
   "metadata": {},
   "source": [
    "***Question***: Why we need to use the `np.newaxis` expression in the examples above? \n",
    "\n",
    "Note that in all your experiments in the exercises, you should use and independent training and testing sets. You can split the dataset into a training and testing subsets in the following way:"
   ]
  },
  {
   "cell_type": "code",
   "execution_count": 4,
   "metadata": {
    "tags": []
   },
   "outputs": [
    {
     "output_type": "stream",
     "name": "stdout",
     "text": "(300, 1)\n(300, 1)\n(142, 1)\n(142, 1)\n"
    }
   ],
   "source": [
    "# use the fourth feature\n",
    "# use the first 300 training samples for training, and the rest for testing\n",
    "X_train = diabetes.data[:300, np.newaxis, 3]\n",
    "y_train = diabetes.target[:300, np.newaxis]\n",
    "X_test = diabetes.data[300:, np.newaxis, 3]\n",
    "y_test = diabetes.target[300:, np.newaxis]\n",
    "print(X_train.shape)\n",
    "print(y_train.shape)\n",
    "print(X_test.shape)\n",
    "print(y_test.shape)"
   ]
  },
  {
   "cell_type": "markdown",
   "metadata": {},
   "source": [
    "## Exercises\n",
    "\n",
    "### Linear regression\n",
    "\n",
    "Implement training and evaluation of a linear regression model on the diabetes dataset using only matrix multiplication, inversion and transpose operations. Report the mean squared error of the model.\n",
    "\n",
    "To get you started we have implemented the first part of this exercise (fitting of the model) as an example."
   ]
  },
  {
   "cell_type": "code",
   "execution_count": 5,
   "metadata": {
    "tags": []
   },
   "outputs": [
    {
     "output_type": "stream",
     "name": "stdout",
     "text": "beta = [[ 152.34786452]\n [ -16.57607993]\n [-254.66532396]\n [ 560.98630022]\n [ 278.91811152]\n [-393.41357305]\n [  97.05460405]\n [ -19.0023093 ]\n [ 169.46450327]\n [ 632.95050374]\n [ 114.21638941]]\nMSE = 2794.569014500734\nMSE matrix= 2794.5690145007343\n"
    }
   ],
   "source": [
    "# add subfolder that contains all the function implementations\n",
    "# to the system path so we can import them\n",
    "import sys\n",
    "sys.path.append('code/')\n",
    "\n",
    "# the actual implementation is in linear_regression.py,\n",
    "# here we will just use it to fit a model\n",
    "from linear_regression import *\n",
    "\n",
    "# load the dataset\n",
    "# same as before, but now we use all features\n",
    "X_train = diabetes.data[:300, :]\n",
    "y_train = diabetes.target[:300, np.newaxis]\n",
    "X_test = diabetes.data[300:, :]\n",
    "y_test = diabetes.target[300:, np.newaxis]\n",
    "\n",
    "beta = lsq(X_train, y_train)\n",
    "\n",
    "# print the parameters\n",
    "print('beta = {}'.format(beta))\n",
    "\n",
    "# Calculate the mean squared error\n",
    "MSE = calcMSE(X_test, y_test, beta)\n",
    "print('MSE = {}'.format(MSE))\n",
    "MSE2 = calcMSEmatrix(X_test, y_test, beta)\n",
    "print('MSE matrix= {}'.format(MSE2))"
   ]
  },
  {
   "cell_type": "markdown",
   "metadata": {},
   "source": [
    "### Weighted linear regression\n",
    "\n",
    "Assume that in the dataset that you use to train a linear regression model, there are identical versions of some samples. This problem can be reformulated to a weighted linear regression problem where the matrices $\\boldsymbol{\\mathrm{X}}$ and $\\boldsymbol{\\mathrm{Y}}$ (or the vector $\\boldsymbol{\\mathrm{y}}$ if there is only a single target/output variable) contain only the unique data samples, and a vector $\\boldsymbol{\\mathrm{d}}$ is introduced that gives more weight to samples that appear multiple times in the original dataset (for example, the sample that appears 3 times has a corresponding weight of 3). \n",
    "\n",
    "<p><font color='#770a0a'>Derive the expression for the least-squares solution of a weighted linear regression model (note that in addition to the matrices $\\boldsymbol{\\mathrm{X}}$ and $\\boldsymbol{\\mathrm{Y}}$, the solution should include a vector of weights $\\boldsymbol{\\mathrm{d}}$).</font></p>"
   ]
  },
  {
   "cell_type": "markdown",
   "metadata": {},
   "source": [
    "### $k$-NN classification\n",
    "\n",
    "Implement a $k$-Nearest neighbors classifier from scratch in Python using only basic matrix operations with `numpy` and `scipy`. Train and evaluate the classifier on the breast cancer dataset, using all features. Show the performance of the classifier for different values of $k$ (plot the results in a graph). Note that for optimal results, you should normalize the features (e.g. to the $[0, 1]$ range or to have a zero mean and unit standard deviation)."
   ]
  },
  {
   "cell_type": "code",
   "execution_count": 6,
   "metadata": {
    "tags": []
   },
   "outputs": [
    {
     "output_type": "stream",
     "name": "stdout",
     "text": "0.0\n"
    }
   ],
   "source": [
    "from scipy import stats\n",
    "# load the dataset\n",
    "X = breast_cancer.data\n",
    "y = breast_cancer.target[:, np.newaxis]\n",
    "#print(y)\n",
    "\n",
    "#Normalize X\n",
    "for feature in range(len(X[1,:])):\n",
    "    values = X[:, feature]\n",
    "    #print(values[1])\n",
    "    min = np.amin(values)\n",
    "    max = np.amax(values)\n",
    "    for patient in range(len(values)):\n",
    "        X[patient,feature] = (X[patient,feature] - min) / (max - min)\n",
    "    #print(values[1])\n",
    "\n",
    "# First 400 patients train, 169 test\n",
    "X_train = X[:400, :]\n",
    "y_train = breast_cancer.target[:400, np.newaxis]\n",
    "X_test = X[400:, :]\n",
    "y_test = breast_cancer.target[400:, np.newaxis]\n",
    "\n",
    "#print(\"shape y_train\", np.shape(y_train))\n",
    "newpoint =  X_test[0]\n",
    "\n",
    "# Calculate euclidean distance\n",
    "distancelist = np.zeros([400,1])\n",
    "for patient in range(len(X_train[:, 1])):\n",
    "    values = X_train[patient,:]\n",
    "    distance = 0\n",
    "    for feature in range(len(newpoint)):\n",
    "        distance += (values[feature] - newpoint[feature]) ** 2 \n",
    "    distance = np.sqrt(distance)\n",
    "    distancelist[patient] = distance\n",
    "\n",
    "\n",
    "\n",
    "#Add distance list to the classes they belong to\n",
    "#print(np.shape(y_train))\n",
    "#print(np.shape(distancelist))\n",
    "class_distance_list = np.append(distancelist, y_train, axis=1)\n",
    "\n",
    "\n",
    "#Sort low to high on distance\n",
    "sorted_class_distance = class_distance_list[class_distance_list[:,0].argsort()]\n",
    "#minimum = np.amin(sorted_class_distance[:,0])\n",
    "#print(minimum)\n",
    "#print(sorted_class_distance)\n",
    "\n",
    "#Specify k\n",
    "k = 10\n",
    "class_neighbours = np.zeros(k)\n",
    "for i in range(k):\n",
    "    class_neighbours[i] = sorted_class_distance[i,1]\n",
    "\n",
    "#Most frequent value is y_pred\n",
    "mode, count = stats.mode(class_neighbours)\n",
    "y_pred = mode[0]\n",
    "print(y_pred)"
   ]
  },
  {
   "cell_type": "code",
   "execution_count": 7,
   "metadata": {
    "tags": []
   },
   "outputs": [
    {
     "output_type": "display_data",
     "data": {
      "text/plain": "<Figure size 432x288 with 1 Axes>",
      "image/svg+xml": "<?xml version=\"1.0\" encoding=\"utf-8\" standalone=\"no\"?>\r\n<!DOCTYPE svg PUBLIC \"-//W3C//DTD SVG 1.1//EN\"\r\n  \"http://www.w3.org/Graphics/SVG/1.1/DTD/svg11.dtd\">\r\n<!-- Created with matplotlib (https://matplotlib.org/) -->\r\n<svg height=\"248.518125pt\" version=\"1.1\" viewBox=\"0 0 372.103125 248.518125\" width=\"372.103125pt\" xmlns=\"http://www.w3.org/2000/svg\" xmlns:xlink=\"http://www.w3.org/1999/xlink\">\r\n <metadata>\r\n  <rdf:RDF xmlns:cc=\"http://creativecommons.org/ns#\" xmlns:dc=\"http://purl.org/dc/elements/1.1/\" xmlns:rdf=\"http://www.w3.org/1999/02/22-rdf-syntax-ns#\">\r\n   <cc:Work>\r\n    <dc:type rdf:resource=\"http://purl.org/dc/dcmitype/StillImage\"/>\r\n    <dc:date>2020-09-09T15:27:02.978886</dc:date>\r\n    <dc:format>image/svg+xml</dc:format>\r\n    <dc:creator>\r\n     <cc:Agent>\r\n      <dc:title>Matplotlib v3.3.1, https://matplotlib.org/</dc:title>\r\n     </cc:Agent>\r\n    </dc:creator>\r\n   </cc:Work>\r\n  </rdf:RDF>\r\n </metadata>\r\n <defs>\r\n  <style type=\"text/css\">*{stroke-linecap:butt;stroke-linejoin:round;}</style>\r\n </defs>\r\n <g id=\"figure_1\">\r\n  <g id=\"patch_1\">\r\n   <path d=\"M 0 248.518125 \r\nL 372.103125 248.518125 \r\nL 372.103125 0 \r\nL 0 0 \r\nz\r\n\" style=\"fill:none;\"/>\r\n  </g>\r\n  <g id=\"axes_1\">\r\n   <g id=\"patch_2\">\r\n    <path d=\"M 30.103125 224.64 \r\nL 364.903125 224.64 \r\nL 364.903125 7.2 \r\nL 30.103125 7.2 \r\nz\r\n\" style=\"fill:#ffffff;\"/>\r\n   </g>\r\n   <g id=\"PathCollection_1\">\r\n    <defs>\r\n     <path d=\"M 0 3 \r\nC 0.795609 3 1.55874 2.683901 2.12132 2.12132 \r\nC 2.683901 1.55874 3 0.795609 3 0 \r\nC 3 -0.795609 2.683901 -1.55874 2.12132 -2.12132 \r\nC 1.55874 -2.683901 0.795609 -3 0 -3 \r\nC -0.795609 -3 -1.55874 -2.683901 -2.12132 -2.12132 \r\nC -2.683901 -1.55874 -3 -0.795609 -3 0 \r\nC -3 0.795609 -2.683901 1.55874 -2.12132 2.12132 \r\nC -1.55874 2.683901 -0.795609 3 0 3 \r\nz\r\n\" id=\"mdd47ce941a\" style=\"stroke:#000000;\"/>\r\n    </defs>\r\n    <g clip-path=\"url(#pff11b1e669)\">\r\n     <use style=\"stroke:#000000;\" x=\"45.321307\" xlink:href=\"#mdd47ce941a\" y=\"214.756364\"/>\r\n    </g>\r\n   </g>\r\n   <g id=\"PathCollection_2\">\r\n    <g clip-path=\"url(#pff11b1e669)\">\r\n     <use style=\"stroke:#000000;\" x=\"51.439169\" xlink:href=\"#mdd47ce941a\" y=\"214.756364\"/>\r\n    </g>\r\n   </g>\r\n   <g id=\"PathCollection_3\">\r\n    <g clip-path=\"url(#pff11b1e669)\">\r\n     <use style=\"stroke:#000000;\" x=\"57.557031\" xlink:href=\"#mdd47ce941a\" y=\"214.756364\"/>\r\n    </g>\r\n   </g>\r\n   <g id=\"PathCollection_4\">\r\n    <g clip-path=\"url(#pff11b1e669)\">\r\n     <use style=\"stroke:#000000;\" x=\"63.674893\" xlink:href=\"#mdd47ce941a\" y=\"214.756364\"/>\r\n    </g>\r\n   </g>\r\n   <g id=\"PathCollection_5\">\r\n    <g clip-path=\"url(#pff11b1e669)\">\r\n     <use style=\"stroke:#000000;\" x=\"69.792755\" xlink:href=\"#mdd47ce941a\" y=\"214.756364\"/>\r\n    </g>\r\n   </g>\r\n   <g id=\"PathCollection_6\">\r\n    <g clip-path=\"url(#pff11b1e669)\">\r\n     <use style=\"stroke:#000000;\" x=\"75.910617\" xlink:href=\"#mdd47ce941a\" y=\"214.756364\"/>\r\n    </g>\r\n   </g>\r\n   <g id=\"PathCollection_7\">\r\n    <g clip-path=\"url(#pff11b1e669)\">\r\n     <use style=\"stroke:#000000;\" x=\"82.028479\" xlink:href=\"#mdd47ce941a\" y=\"214.756364\"/>\r\n    </g>\r\n   </g>\r\n   <g id=\"PathCollection_8\">\r\n    <g clip-path=\"url(#pff11b1e669)\">\r\n     <use style=\"stroke:#000000;\" x=\"88.146341\" xlink:href=\"#mdd47ce941a\" y=\"214.756364\"/>\r\n    </g>\r\n   </g>\r\n   <g id=\"PathCollection_9\">\r\n    <g clip-path=\"url(#pff11b1e669)\">\r\n     <use style=\"stroke:#000000;\" x=\"94.264203\" xlink:href=\"#mdd47ce941a\" y=\"214.756364\"/>\r\n    </g>\r\n   </g>\r\n   <g id=\"PathCollection_10\">\r\n    <g clip-path=\"url(#pff11b1e669)\">\r\n     <use style=\"stroke:#000000;\" x=\"101.146798\" xlink:href=\"#mdd47ce941a\" y=\"214.756364\"/>\r\n    </g>\r\n   </g>\r\n   <g id=\"PathCollection_11\">\r\n    <g clip-path=\"url(#pff11b1e669)\">\r\n     <use style=\"stroke:#000000;\" x=\"107.26466\" xlink:href=\"#mdd47ce941a\" y=\"214.756364\"/>\r\n    </g>\r\n   </g>\r\n   <g id=\"PathCollection_12\">\r\n    <g clip-path=\"url(#pff11b1e669)\">\r\n     <use style=\"stroke:#000000;\" x=\"113.382522\" xlink:href=\"#mdd47ce941a\" y=\"214.756364\"/>\r\n    </g>\r\n   </g>\r\n   <g id=\"PathCollection_13\">\r\n    <g clip-path=\"url(#pff11b1e669)\">\r\n     <use style=\"stroke:#000000;\" x=\"119.500384\" xlink:href=\"#mdd47ce941a\" y=\"214.756364\"/>\r\n    </g>\r\n   </g>\r\n   <g id=\"PathCollection_14\">\r\n    <g clip-path=\"url(#pff11b1e669)\">\r\n     <use style=\"stroke:#000000;\" x=\"125.618246\" xlink:href=\"#mdd47ce941a\" y=\"214.756364\"/>\r\n    </g>\r\n   </g>\r\n   <g id=\"PathCollection_15\">\r\n    <g clip-path=\"url(#pff11b1e669)\">\r\n     <use style=\"stroke:#000000;\" x=\"131.736108\" xlink:href=\"#mdd47ce941a\" y=\"214.756364\"/>\r\n    </g>\r\n   </g>\r\n   <g id=\"PathCollection_16\">\r\n    <g clip-path=\"url(#pff11b1e669)\">\r\n     <use style=\"stroke:#000000;\" x=\"137.85397\" xlink:href=\"#mdd47ce941a\" y=\"214.756364\"/>\r\n    </g>\r\n   </g>\r\n   <g id=\"PathCollection_17\">\r\n    <g clip-path=\"url(#pff11b1e669)\">\r\n     <use style=\"stroke:#000000;\" x=\"143.971832\" xlink:href=\"#mdd47ce941a\" y=\"214.756364\"/>\r\n    </g>\r\n   </g>\r\n   <g id=\"PathCollection_18\">\r\n    <g clip-path=\"url(#pff11b1e669)\">\r\n     <use style=\"stroke:#000000;\" x=\"150.854427\" xlink:href=\"#mdd47ce941a\" y=\"214.756364\"/>\r\n    </g>\r\n   </g>\r\n   <g id=\"PathCollection_19\">\r\n    <g clip-path=\"url(#pff11b1e669)\">\r\n     <use style=\"stroke:#000000;\" x=\"156.972289\" xlink:href=\"#mdd47ce941a\" y=\"214.756364\"/>\r\n    </g>\r\n   </g>\r\n   <g id=\"PathCollection_20\">\r\n    <g clip-path=\"url(#pff11b1e669)\">\r\n     <use style=\"stroke:#000000;\" x=\"163.090151\" xlink:href=\"#mdd47ce941a\" y=\"214.756364\"/>\r\n    </g>\r\n   </g>\r\n   <g id=\"PathCollection_21\">\r\n    <g clip-path=\"url(#pff11b1e669)\">\r\n     <use style=\"stroke:#000000;\" x=\"169.208013\" xlink:href=\"#mdd47ce941a\" y=\"214.756364\"/>\r\n    </g>\r\n   </g>\r\n   <g id=\"PathCollection_22\">\r\n    <g clip-path=\"url(#pff11b1e669)\">\r\n     <use style=\"stroke:#000000;\" x=\"175.325875\" xlink:href=\"#mdd47ce941a\" y=\"214.756364\"/>\r\n    </g>\r\n   </g>\r\n   <g id=\"PathCollection_23\">\r\n    <g clip-path=\"url(#pff11b1e669)\">\r\n     <use style=\"stroke:#000000;\" x=\"181.443737\" xlink:href=\"#mdd47ce941a\" y=\"214.756364\"/>\r\n    </g>\r\n   </g>\r\n   <g id=\"PathCollection_24\">\r\n    <g clip-path=\"url(#pff11b1e669)\">\r\n     <use style=\"stroke:#000000;\" x=\"187.561599\" xlink:href=\"#mdd47ce941a\" y=\"214.756364\"/>\r\n    </g>\r\n   </g>\r\n   <g id=\"PathCollection_25\">\r\n    <g clip-path=\"url(#pff11b1e669)\">\r\n     <use style=\"stroke:#000000;\" x=\"193.679461\" xlink:href=\"#mdd47ce941a\" y=\"214.756364\"/>\r\n    </g>\r\n   </g>\r\n   <g id=\"PathCollection_26\">\r\n    <g clip-path=\"url(#pff11b1e669)\">\r\n     <use style=\"stroke:#000000;\" x=\"200.562056\" xlink:href=\"#mdd47ce941a\" y=\"214.756364\"/>\r\n    </g>\r\n   </g>\r\n   <g id=\"PathCollection_27\">\r\n    <g clip-path=\"url(#pff11b1e669)\">\r\n     <use style=\"stroke:#000000;\" x=\"206.679918\" xlink:href=\"#mdd47ce941a\" y=\"214.756364\"/>\r\n    </g>\r\n   </g>\r\n   <g id=\"PathCollection_28\">\r\n    <g clip-path=\"url(#pff11b1e669)\">\r\n     <use style=\"stroke:#000000;\" x=\"212.79778\" xlink:href=\"#mdd47ce941a\" y=\"214.756364\"/>\r\n    </g>\r\n   </g>\r\n   <g id=\"PathCollection_29\">\r\n    <g clip-path=\"url(#pff11b1e669)\">\r\n     <use style=\"stroke:#000000;\" x=\"218.915642\" xlink:href=\"#mdd47ce941a\" y=\"214.756364\"/>\r\n    </g>\r\n   </g>\r\n   <g id=\"PathCollection_30\">\r\n    <g clip-path=\"url(#pff11b1e669)\">\r\n     <use style=\"stroke:#000000;\" x=\"225.033504\" xlink:href=\"#mdd47ce941a\" y=\"214.756364\"/>\r\n    </g>\r\n   </g>\r\n   <g id=\"PathCollection_31\">\r\n    <g clip-path=\"url(#pff11b1e669)\">\r\n     <use style=\"stroke:#000000;\" x=\"231.151366\" xlink:href=\"#mdd47ce941a\" y=\"214.756364\"/>\r\n    </g>\r\n   </g>\r\n   <g id=\"PathCollection_32\">\r\n    <g clip-path=\"url(#pff11b1e669)\">\r\n     <use style=\"stroke:#000000;\" x=\"237.269228\" xlink:href=\"#mdd47ce941a\" y=\"214.756364\"/>\r\n    </g>\r\n   </g>\r\n   <g id=\"PathCollection_33\">\r\n    <g clip-path=\"url(#pff11b1e669)\">\r\n     <use style=\"stroke:#000000;\" x=\"243.38709\" xlink:href=\"#mdd47ce941a\" y=\"214.756364\"/>\r\n    </g>\r\n   </g>\r\n   <g id=\"PathCollection_34\">\r\n    <g clip-path=\"url(#pff11b1e669)\">\r\n     <use style=\"stroke:#000000;\" x=\"250.269685\" xlink:href=\"#mdd47ce941a\" y=\"214.756364\"/>\r\n    </g>\r\n   </g>\r\n   <g id=\"PathCollection_35\">\r\n    <g clip-path=\"url(#pff11b1e669)\">\r\n     <use style=\"stroke:#000000;\" x=\"256.387547\" xlink:href=\"#mdd47ce941a\" y=\"214.756364\"/>\r\n    </g>\r\n   </g>\r\n   <g id=\"PathCollection_36\">\r\n    <g clip-path=\"url(#pff11b1e669)\">\r\n     <use style=\"stroke:#000000;\" x=\"262.505409\" xlink:href=\"#mdd47ce941a\" y=\"214.756364\"/>\r\n    </g>\r\n   </g>\r\n   <g id=\"PathCollection_37\">\r\n    <g clip-path=\"url(#pff11b1e669)\">\r\n     <use style=\"stroke:#000000;\" x=\"268.623271\" xlink:href=\"#mdd47ce941a\" y=\"214.756364\"/>\r\n    </g>\r\n   </g>\r\n   <g id=\"PathCollection_38\">\r\n    <g clip-path=\"url(#pff11b1e669)\">\r\n     <use style=\"stroke:#000000;\" x=\"274.741133\" xlink:href=\"#mdd47ce941a\" y=\"214.756364\"/>\r\n    </g>\r\n   </g>\r\n   <g id=\"PathCollection_39\">\r\n    <g clip-path=\"url(#pff11b1e669)\">\r\n     <use style=\"stroke:#000000;\" x=\"280.858995\" xlink:href=\"#mdd47ce941a\" y=\"214.756364\"/>\r\n    </g>\r\n   </g>\r\n   <g id=\"PathCollection_40\">\r\n    <g clip-path=\"url(#pff11b1e669)\">\r\n     <use style=\"stroke:#000000;\" x=\"286.976857\" xlink:href=\"#mdd47ce941a\" y=\"214.756364\"/>\r\n    </g>\r\n   </g>\r\n   <g id=\"PathCollection_41\">\r\n    <g clip-path=\"url(#pff11b1e669)\">\r\n     <use style=\"stroke:#000000;\" x=\"293.094719\" xlink:href=\"#mdd47ce941a\" y=\"214.756364\"/>\r\n    </g>\r\n   </g>\r\n   <g id=\"PathCollection_42\">\r\n    <g clip-path=\"url(#pff11b1e669)\">\r\n     <use style=\"stroke:#000000;\" x=\"299.977314\" xlink:href=\"#mdd47ce941a\" y=\"214.756364\"/>\r\n    </g>\r\n   </g>\r\n   <g id=\"PathCollection_43\">\r\n    <g clip-path=\"url(#pff11b1e669)\">\r\n     <use style=\"stroke:#000000;\" x=\"306.095176\" xlink:href=\"#mdd47ce941a\" y=\"17.083636\"/>\r\n    </g>\r\n   </g>\r\n   <g id=\"PathCollection_44\">\r\n    <g clip-path=\"url(#pff11b1e669)\">\r\n     <use style=\"stroke:#000000;\" x=\"312.213038\" xlink:href=\"#mdd47ce941a\" y=\"17.083636\"/>\r\n    </g>\r\n   </g>\r\n   <g id=\"PathCollection_45\">\r\n    <g clip-path=\"url(#pff11b1e669)\">\r\n     <use style=\"stroke:#000000;\" x=\"318.3309\" xlink:href=\"#mdd47ce941a\" y=\"17.083636\"/>\r\n    </g>\r\n   </g>\r\n   <g id=\"PathCollection_46\">\r\n    <g clip-path=\"url(#pff11b1e669)\">\r\n     <use style=\"stroke:#000000;\" x=\"324.448762\" xlink:href=\"#mdd47ce941a\" y=\"17.083636\"/>\r\n    </g>\r\n   </g>\r\n   <g id=\"PathCollection_47\">\r\n    <g clip-path=\"url(#pff11b1e669)\">\r\n     <use style=\"stroke:#000000;\" x=\"330.566624\" xlink:href=\"#mdd47ce941a\" y=\"17.083636\"/>\r\n    </g>\r\n   </g>\r\n   <g id=\"PathCollection_48\">\r\n    <g clip-path=\"url(#pff11b1e669)\">\r\n     <use style=\"stroke:#000000;\" x=\"336.684486\" xlink:href=\"#mdd47ce941a\" y=\"17.083636\"/>\r\n    </g>\r\n   </g>\r\n   <g id=\"PathCollection_49\">\r\n    <g clip-path=\"url(#pff11b1e669)\">\r\n     <use style=\"stroke:#000000;\" x=\"342.802348\" xlink:href=\"#mdd47ce941a\" y=\"17.083636\"/>\r\n    </g>\r\n   </g>\r\n   <g id=\"PathCollection_50\">\r\n    <g clip-path=\"url(#pff11b1e669)\">\r\n     <use style=\"stroke:#000000;\" x=\"349.684943\" xlink:href=\"#mdd47ce941a\" y=\"17.083636\"/>\r\n    </g>\r\n   </g>\r\n   <g id=\"matplotlib.axis_1\">\r\n    <g id=\"xtick_1\">\r\n     <g id=\"line2d_1\">\r\n      <defs>\r\n       <path d=\"M 0 0 \r\nL 0 3.5 \r\n\" id=\"mfdb1fcbd50\" style=\"stroke:#000000;stroke-width:0.8;\"/>\r\n      </defs>\r\n      <g>\r\n       <use style=\"stroke:#000000;stroke-width:0.8;\" x=\"43.791841\" xlink:href=\"#mfdb1fcbd50\" y=\"224.64\"/>\r\n      </g>\r\n     </g>\r\n     <g id=\"text_1\">\r\n      <!-- 0 -->\r\n      <g transform=\"translate(40.610591 239.238437)scale(0.1 -0.1)\">\r\n       <defs>\r\n        <path d=\"M 31.78125 66.40625 \r\nQ 24.171875 66.40625 20.328125 58.90625 \r\nQ 16.5 51.421875 16.5 36.375 \r\nQ 16.5 21.390625 20.328125 13.890625 \r\nQ 24.171875 6.390625 31.78125 6.390625 \r\nQ 39.453125 6.390625 43.28125 13.890625 \r\nQ 47.125 21.390625 47.125 36.375 \r\nQ 47.125 51.421875 43.28125 58.90625 \r\nQ 39.453125 66.40625 31.78125 66.40625 \r\nz\r\nM 31.78125 74.21875 \r\nQ 44.046875 74.21875 50.515625 64.515625 \r\nQ 56.984375 54.828125 56.984375 36.375 \r\nQ 56.984375 17.96875 50.515625 8.265625 \r\nQ 44.046875 -1.421875 31.78125 -1.421875 \r\nQ 19.53125 -1.421875 13.0625 8.265625 \r\nQ 6.59375 17.96875 6.59375 36.375 \r\nQ 6.59375 54.828125 13.0625 64.515625 \r\nQ 19.53125 74.21875 31.78125 74.21875 \r\nz\r\n\" id=\"DejaVuSans-48\"/>\r\n       </defs>\r\n       <use xlink:href=\"#DejaVuSans-48\"/>\r\n      </g>\r\n     </g>\r\n    </g>\r\n    <g id=\"xtick_2\">\r\n     <g id=\"line2d_2\">\r\n      <g>\r\n       <use style=\"stroke:#000000;stroke-width:0.8;\" x=\"82.028479\" xlink:href=\"#mfdb1fcbd50\" y=\"224.64\"/>\r\n      </g>\r\n     </g>\r\n     <g id=\"text_2\">\r\n      <!-- 50 -->\r\n      <g transform=\"translate(75.665979 239.238437)scale(0.1 -0.1)\">\r\n       <defs>\r\n        <path d=\"M 10.796875 72.90625 \r\nL 49.515625 72.90625 \r\nL 49.515625 64.59375 \r\nL 19.828125 64.59375 \r\nL 19.828125 46.734375 \r\nQ 21.96875 47.46875 24.109375 47.828125 \r\nQ 26.265625 48.1875 28.421875 48.1875 \r\nQ 40.625 48.1875 47.75 41.5 \r\nQ 54.890625 34.8125 54.890625 23.390625 \r\nQ 54.890625 11.625 47.5625 5.09375 \r\nQ 40.234375 -1.421875 26.90625 -1.421875 \r\nQ 22.3125 -1.421875 17.546875 -0.640625 \r\nQ 12.796875 0.140625 7.71875 1.703125 \r\nL 7.71875 11.625 \r\nQ 12.109375 9.234375 16.796875 8.0625 \r\nQ 21.484375 6.890625 26.703125 6.890625 \r\nQ 35.15625 6.890625 40.078125 11.328125 \r\nQ 45.015625 15.765625 45.015625 23.390625 \r\nQ 45.015625 31 40.078125 35.4375 \r\nQ 35.15625 39.890625 26.703125 39.890625 \r\nQ 22.75 39.890625 18.8125 39.015625 \r\nQ 14.890625 38.140625 10.796875 36.28125 \r\nz\r\n\" id=\"DejaVuSans-53\"/>\r\n       </defs>\r\n       <use xlink:href=\"#DejaVuSans-53\"/>\r\n       <use x=\"63.623047\" xlink:href=\"#DejaVuSans-48\"/>\r\n      </g>\r\n     </g>\r\n    </g>\r\n    <g id=\"xtick_3\">\r\n     <g id=\"line2d_3\">\r\n      <g>\r\n       <use style=\"stroke:#000000;stroke-width:0.8;\" x=\"120.265117\" xlink:href=\"#mfdb1fcbd50\" y=\"224.64\"/>\r\n      </g>\r\n     </g>\r\n     <g id=\"text_3\">\r\n      <!-- 100 -->\r\n      <g transform=\"translate(110.721367 239.238437)scale(0.1 -0.1)\">\r\n       <defs>\r\n        <path d=\"M 12.40625 8.296875 \r\nL 28.515625 8.296875 \r\nL 28.515625 63.921875 \r\nL 10.984375 60.40625 \r\nL 10.984375 69.390625 \r\nL 28.421875 72.90625 \r\nL 38.28125 72.90625 \r\nL 38.28125 8.296875 \r\nL 54.390625 8.296875 \r\nL 54.390625 0 \r\nL 12.40625 0 \r\nz\r\n\" id=\"DejaVuSans-49\"/>\r\n       </defs>\r\n       <use xlink:href=\"#DejaVuSans-49\"/>\r\n       <use x=\"63.623047\" xlink:href=\"#DejaVuSans-48\"/>\r\n       <use x=\"127.246094\" xlink:href=\"#DejaVuSans-48\"/>\r\n      </g>\r\n     </g>\r\n    </g>\r\n    <g id=\"xtick_4\">\r\n     <g id=\"line2d_4\">\r\n      <g>\r\n       <use style=\"stroke:#000000;stroke-width:0.8;\" x=\"158.501755\" xlink:href=\"#mfdb1fcbd50\" y=\"224.64\"/>\r\n      </g>\r\n     </g>\r\n     <g id=\"text_4\">\r\n      <!-- 150 -->\r\n      <g transform=\"translate(148.958005 239.238437)scale(0.1 -0.1)\">\r\n       <use xlink:href=\"#DejaVuSans-49\"/>\r\n       <use x=\"63.623047\" xlink:href=\"#DejaVuSans-53\"/>\r\n       <use x=\"127.246094\" xlink:href=\"#DejaVuSans-48\"/>\r\n      </g>\r\n     </g>\r\n    </g>\r\n    <g id=\"xtick_5\">\r\n     <g id=\"line2d_5\">\r\n      <g>\r\n       <use style=\"stroke:#000000;stroke-width:0.8;\" x=\"196.738392\" xlink:href=\"#mfdb1fcbd50\" y=\"224.64\"/>\r\n      </g>\r\n     </g>\r\n     <g id=\"text_5\">\r\n      <!-- 200 -->\r\n      <g transform=\"translate(187.194642 239.238437)scale(0.1 -0.1)\">\r\n       <defs>\r\n        <path d=\"M 19.1875 8.296875 \r\nL 53.609375 8.296875 \r\nL 53.609375 0 \r\nL 7.328125 0 \r\nL 7.328125 8.296875 \r\nQ 12.9375 14.109375 22.625 23.890625 \r\nQ 32.328125 33.6875 34.8125 36.53125 \r\nQ 39.546875 41.84375 41.421875 45.53125 \r\nQ 43.3125 49.21875 43.3125 52.78125 \r\nQ 43.3125 58.59375 39.234375 62.25 \r\nQ 35.15625 65.921875 28.609375 65.921875 \r\nQ 23.96875 65.921875 18.8125 64.3125 \r\nQ 13.671875 62.703125 7.8125 59.421875 \r\nL 7.8125 69.390625 \r\nQ 13.765625 71.78125 18.9375 73 \r\nQ 24.125 74.21875 28.421875 74.21875 \r\nQ 39.75 74.21875 46.484375 68.546875 \r\nQ 53.21875 62.890625 53.21875 53.421875 \r\nQ 53.21875 48.921875 51.53125 44.890625 \r\nQ 49.859375 40.875 45.40625 35.40625 \r\nQ 44.1875 33.984375 37.640625 27.21875 \r\nQ 31.109375 20.453125 19.1875 8.296875 \r\nz\r\n\" id=\"DejaVuSans-50\"/>\r\n       </defs>\r\n       <use xlink:href=\"#DejaVuSans-50\"/>\r\n       <use x=\"63.623047\" xlink:href=\"#DejaVuSans-48\"/>\r\n       <use x=\"127.246094\" xlink:href=\"#DejaVuSans-48\"/>\r\n      </g>\r\n     </g>\r\n    </g>\r\n    <g id=\"xtick_6\">\r\n     <g id=\"line2d_6\">\r\n      <g>\r\n       <use style=\"stroke:#000000;stroke-width:0.8;\" x=\"234.97503\" xlink:href=\"#mfdb1fcbd50\" y=\"224.64\"/>\r\n      </g>\r\n     </g>\r\n     <g id=\"text_6\">\r\n      <!-- 250 -->\r\n      <g transform=\"translate(225.43128 239.238437)scale(0.1 -0.1)\">\r\n       <use xlink:href=\"#DejaVuSans-50\"/>\r\n       <use x=\"63.623047\" xlink:href=\"#DejaVuSans-53\"/>\r\n       <use x=\"127.246094\" xlink:href=\"#DejaVuSans-48\"/>\r\n      </g>\r\n     </g>\r\n    </g>\r\n    <g id=\"xtick_7\">\r\n     <g id=\"line2d_7\">\r\n      <g>\r\n       <use style=\"stroke:#000000;stroke-width:0.8;\" x=\"273.211668\" xlink:href=\"#mfdb1fcbd50\" y=\"224.64\"/>\r\n      </g>\r\n     </g>\r\n     <g id=\"text_7\">\r\n      <!-- 300 -->\r\n      <g transform=\"translate(263.667918 239.238437)scale(0.1 -0.1)\">\r\n       <defs>\r\n        <path d=\"M 40.578125 39.3125 \r\nQ 47.65625 37.796875 51.625 33 \r\nQ 55.609375 28.21875 55.609375 21.1875 \r\nQ 55.609375 10.40625 48.1875 4.484375 \r\nQ 40.765625 -1.421875 27.09375 -1.421875 \r\nQ 22.515625 -1.421875 17.65625 -0.515625 \r\nQ 12.796875 0.390625 7.625 2.203125 \r\nL 7.625 11.71875 \r\nQ 11.71875 9.328125 16.59375 8.109375 \r\nQ 21.484375 6.890625 26.8125 6.890625 \r\nQ 36.078125 6.890625 40.9375 10.546875 \r\nQ 45.796875 14.203125 45.796875 21.1875 \r\nQ 45.796875 27.640625 41.28125 31.265625 \r\nQ 36.765625 34.90625 28.71875 34.90625 \r\nL 20.21875 34.90625 \r\nL 20.21875 43.015625 \r\nL 29.109375 43.015625 \r\nQ 36.375 43.015625 40.234375 45.921875 \r\nQ 44.09375 48.828125 44.09375 54.296875 \r\nQ 44.09375 59.90625 40.109375 62.90625 \r\nQ 36.140625 65.921875 28.71875 65.921875 \r\nQ 24.65625 65.921875 20.015625 65.03125 \r\nQ 15.375 64.15625 9.8125 62.3125 \r\nL 9.8125 71.09375 \r\nQ 15.4375 72.65625 20.34375 73.4375 \r\nQ 25.25 74.21875 29.59375 74.21875 \r\nQ 40.828125 74.21875 47.359375 69.109375 \r\nQ 53.90625 64.015625 53.90625 55.328125 \r\nQ 53.90625 49.265625 50.4375 45.09375 \r\nQ 46.96875 40.921875 40.578125 39.3125 \r\nz\r\n\" id=\"DejaVuSans-51\"/>\r\n       </defs>\r\n       <use xlink:href=\"#DejaVuSans-51\"/>\r\n       <use x=\"63.623047\" xlink:href=\"#DejaVuSans-48\"/>\r\n       <use x=\"127.246094\" xlink:href=\"#DejaVuSans-48\"/>\r\n      </g>\r\n     </g>\r\n    </g>\r\n    <g id=\"xtick_8\">\r\n     <g id=\"line2d_8\">\r\n      <g>\r\n       <use style=\"stroke:#000000;stroke-width:0.8;\" x=\"311.448305\" xlink:href=\"#mfdb1fcbd50\" y=\"224.64\"/>\r\n      </g>\r\n     </g>\r\n     <g id=\"text_8\">\r\n      <!-- 350 -->\r\n      <g transform=\"translate(301.904555 239.238437)scale(0.1 -0.1)\">\r\n       <use xlink:href=\"#DejaVuSans-51\"/>\r\n       <use x=\"63.623047\" xlink:href=\"#DejaVuSans-53\"/>\r\n       <use x=\"127.246094\" xlink:href=\"#DejaVuSans-48\"/>\r\n      </g>\r\n     </g>\r\n    </g>\r\n    <g id=\"xtick_9\">\r\n     <g id=\"line2d_9\">\r\n      <g>\r\n       <use style=\"stroke:#000000;stroke-width:0.8;\" x=\"349.684943\" xlink:href=\"#mfdb1fcbd50\" y=\"224.64\"/>\r\n      </g>\r\n     </g>\r\n     <g id=\"text_9\">\r\n      <!-- 400 -->\r\n      <g transform=\"translate(340.141193 239.238437)scale(0.1 -0.1)\">\r\n       <defs>\r\n        <path d=\"M 37.796875 64.3125 \r\nL 12.890625 25.390625 \r\nL 37.796875 25.390625 \r\nz\r\nM 35.203125 72.90625 \r\nL 47.609375 72.90625 \r\nL 47.609375 25.390625 \r\nL 58.015625 25.390625 \r\nL 58.015625 17.1875 \r\nL 47.609375 17.1875 \r\nL 47.609375 0 \r\nL 37.796875 0 \r\nL 37.796875 17.1875 \r\nL 4.890625 17.1875 \r\nL 4.890625 26.703125 \r\nz\r\n\" id=\"DejaVuSans-52\"/>\r\n       </defs>\r\n       <use xlink:href=\"#DejaVuSans-52\"/>\r\n       <use x=\"63.623047\" xlink:href=\"#DejaVuSans-48\"/>\r\n       <use x=\"127.246094\" xlink:href=\"#DejaVuSans-48\"/>\r\n      </g>\r\n     </g>\r\n    </g>\r\n   </g>\r\n   <g id=\"matplotlib.axis_2\">\r\n    <g id=\"ytick_1\">\r\n     <g id=\"line2d_10\">\r\n      <defs>\r\n       <path d=\"M 0 0 \r\nL -3.5 0 \r\n\" id=\"m615030022d\" style=\"stroke:#000000;stroke-width:0.8;\"/>\r\n      </defs>\r\n      <g>\r\n       <use style=\"stroke:#000000;stroke-width:0.8;\" x=\"30.103125\" xlink:href=\"#m615030022d\" y=\"214.756364\"/>\r\n      </g>\r\n     </g>\r\n     <g id=\"text_10\">\r\n      <!-- 0.0 -->\r\n      <g transform=\"translate(7.2 218.555582)scale(0.1 -0.1)\">\r\n       <defs>\r\n        <path d=\"M 10.6875 12.40625 \r\nL 21 12.40625 \r\nL 21 0 \r\nL 10.6875 0 \r\nz\r\n\" id=\"DejaVuSans-46\"/>\r\n       </defs>\r\n       <use xlink:href=\"#DejaVuSans-48\"/>\r\n       <use x=\"63.623047\" xlink:href=\"#DejaVuSans-46\"/>\r\n       <use x=\"95.410156\" xlink:href=\"#DejaVuSans-48\"/>\r\n      </g>\r\n     </g>\r\n    </g>\r\n    <g id=\"ytick_2\">\r\n     <g id=\"line2d_11\">\r\n      <g>\r\n       <use style=\"stroke:#000000;stroke-width:0.8;\" x=\"30.103125\" xlink:href=\"#m615030022d\" y=\"175.221818\"/>\r\n      </g>\r\n     </g>\r\n     <g id=\"text_11\">\r\n      <!-- 0.2 -->\r\n      <g transform=\"translate(7.2 179.021037)scale(0.1 -0.1)\">\r\n       <use xlink:href=\"#DejaVuSans-48\"/>\r\n       <use x=\"63.623047\" xlink:href=\"#DejaVuSans-46\"/>\r\n       <use x=\"95.410156\" xlink:href=\"#DejaVuSans-50\"/>\r\n      </g>\r\n     </g>\r\n    </g>\r\n    <g id=\"ytick_3\">\r\n     <g id=\"line2d_12\">\r\n      <g>\r\n       <use style=\"stroke:#000000;stroke-width:0.8;\" x=\"30.103125\" xlink:href=\"#m615030022d\" y=\"135.687273\"/>\r\n      </g>\r\n     </g>\r\n     <g id=\"text_12\">\r\n      <!-- 0.4 -->\r\n      <g transform=\"translate(7.2 139.486491)scale(0.1 -0.1)\">\r\n       <use xlink:href=\"#DejaVuSans-48\"/>\r\n       <use x=\"63.623047\" xlink:href=\"#DejaVuSans-46\"/>\r\n       <use x=\"95.410156\" xlink:href=\"#DejaVuSans-52\"/>\r\n      </g>\r\n     </g>\r\n    </g>\r\n    <g id=\"ytick_4\">\r\n     <g id=\"line2d_13\">\r\n      <g>\r\n       <use style=\"stroke:#000000;stroke-width:0.8;\" x=\"30.103125\" xlink:href=\"#m615030022d\" y=\"96.152727\"/>\r\n      </g>\r\n     </g>\r\n     <g id=\"text_13\">\r\n      <!-- 0.6 -->\r\n      <g transform=\"translate(7.2 99.951946)scale(0.1 -0.1)\">\r\n       <defs>\r\n        <path d=\"M 33.015625 40.375 \r\nQ 26.375 40.375 22.484375 35.828125 \r\nQ 18.609375 31.296875 18.609375 23.390625 \r\nQ 18.609375 15.53125 22.484375 10.953125 \r\nQ 26.375 6.390625 33.015625 6.390625 \r\nQ 39.65625 6.390625 43.53125 10.953125 \r\nQ 47.40625 15.53125 47.40625 23.390625 \r\nQ 47.40625 31.296875 43.53125 35.828125 \r\nQ 39.65625 40.375 33.015625 40.375 \r\nz\r\nM 52.59375 71.296875 \r\nL 52.59375 62.3125 \r\nQ 48.875 64.0625 45.09375 64.984375 \r\nQ 41.3125 65.921875 37.59375 65.921875 \r\nQ 27.828125 65.921875 22.671875 59.328125 \r\nQ 17.53125 52.734375 16.796875 39.40625 \r\nQ 19.671875 43.65625 24.015625 45.921875 \r\nQ 28.375 48.1875 33.59375 48.1875 \r\nQ 44.578125 48.1875 50.953125 41.515625 \r\nQ 57.328125 34.859375 57.328125 23.390625 \r\nQ 57.328125 12.15625 50.6875 5.359375 \r\nQ 44.046875 -1.421875 33.015625 -1.421875 \r\nQ 20.359375 -1.421875 13.671875 8.265625 \r\nQ 6.984375 17.96875 6.984375 36.375 \r\nQ 6.984375 53.65625 15.1875 63.9375 \r\nQ 23.390625 74.21875 37.203125 74.21875 \r\nQ 40.921875 74.21875 44.703125 73.484375 \r\nQ 48.484375 72.75 52.59375 71.296875 \r\nz\r\n\" id=\"DejaVuSans-54\"/>\r\n       </defs>\r\n       <use xlink:href=\"#DejaVuSans-48\"/>\r\n       <use x=\"63.623047\" xlink:href=\"#DejaVuSans-46\"/>\r\n       <use x=\"95.410156\" xlink:href=\"#DejaVuSans-54\"/>\r\n      </g>\r\n     </g>\r\n    </g>\r\n    <g id=\"ytick_5\">\r\n     <g id=\"line2d_14\">\r\n      <g>\r\n       <use style=\"stroke:#000000;stroke-width:0.8;\" x=\"30.103125\" xlink:href=\"#m615030022d\" y=\"56.618182\"/>\r\n      </g>\r\n     </g>\r\n     <g id=\"text_14\">\r\n      <!-- 0.8 -->\r\n      <g transform=\"translate(7.2 60.417401)scale(0.1 -0.1)\">\r\n       <defs>\r\n        <path d=\"M 31.78125 34.625 \r\nQ 24.75 34.625 20.71875 30.859375 \r\nQ 16.703125 27.09375 16.703125 20.515625 \r\nQ 16.703125 13.921875 20.71875 10.15625 \r\nQ 24.75 6.390625 31.78125 6.390625 \r\nQ 38.8125 6.390625 42.859375 10.171875 \r\nQ 46.921875 13.96875 46.921875 20.515625 \r\nQ 46.921875 27.09375 42.890625 30.859375 \r\nQ 38.875 34.625 31.78125 34.625 \r\nz\r\nM 21.921875 38.8125 \r\nQ 15.578125 40.375 12.03125 44.71875 \r\nQ 8.5 49.078125 8.5 55.328125 \r\nQ 8.5 64.0625 14.71875 69.140625 \r\nQ 20.953125 74.21875 31.78125 74.21875 \r\nQ 42.671875 74.21875 48.875 69.140625 \r\nQ 55.078125 64.0625 55.078125 55.328125 \r\nQ 55.078125 49.078125 51.53125 44.71875 \r\nQ 48 40.375 41.703125 38.8125 \r\nQ 48.828125 37.15625 52.796875 32.3125 \r\nQ 56.78125 27.484375 56.78125 20.515625 \r\nQ 56.78125 9.90625 50.3125 4.234375 \r\nQ 43.84375 -1.421875 31.78125 -1.421875 \r\nQ 19.734375 -1.421875 13.25 4.234375 \r\nQ 6.78125 9.90625 6.78125 20.515625 \r\nQ 6.78125 27.484375 10.78125 32.3125 \r\nQ 14.796875 37.15625 21.921875 38.8125 \r\nz\r\nM 18.3125 54.390625 \r\nQ 18.3125 48.734375 21.84375 45.5625 \r\nQ 25.390625 42.390625 31.78125 42.390625 \r\nQ 38.140625 42.390625 41.71875 45.5625 \r\nQ 45.3125 48.734375 45.3125 54.390625 \r\nQ 45.3125 60.0625 41.71875 63.234375 \r\nQ 38.140625 66.40625 31.78125 66.40625 \r\nQ 25.390625 66.40625 21.84375 63.234375 \r\nQ 18.3125 60.0625 18.3125 54.390625 \r\nz\r\n\" id=\"DejaVuSans-56\"/>\r\n       </defs>\r\n       <use xlink:href=\"#DejaVuSans-48\"/>\r\n       <use x=\"63.623047\" xlink:href=\"#DejaVuSans-46\"/>\r\n       <use x=\"95.410156\" xlink:href=\"#DejaVuSans-56\"/>\r\n      </g>\r\n     </g>\r\n    </g>\r\n    <g id=\"ytick_6\">\r\n     <g id=\"line2d_15\">\r\n      <g>\r\n       <use style=\"stroke:#000000;stroke-width:0.8;\" x=\"30.103125\" xlink:href=\"#m615030022d\" y=\"17.083636\"/>\r\n      </g>\r\n     </g>\r\n     <g id=\"text_15\">\r\n      <!-- 1.0 -->\r\n      <g transform=\"translate(7.2 20.882855)scale(0.1 -0.1)\">\r\n       <use xlink:href=\"#DejaVuSans-49\"/>\r\n       <use x=\"63.623047\" xlink:href=\"#DejaVuSans-46\"/>\r\n       <use x=\"95.410156\" xlink:href=\"#DejaVuSans-48\"/>\r\n      </g>\r\n     </g>\r\n    </g>\r\n   </g>\r\n   <g id=\"patch_3\">\r\n    <path d=\"M 30.103125 224.64 \r\nL 30.103125 7.2 \r\n\" style=\"fill:none;stroke:#000000;stroke-linecap:square;stroke-linejoin:miter;stroke-width:0.8;\"/>\r\n   </g>\r\n   <g id=\"patch_4\">\r\n    <path d=\"M 364.903125 224.64 \r\nL 364.903125 7.2 \r\n\" style=\"fill:none;stroke:#000000;stroke-linecap:square;stroke-linejoin:miter;stroke-width:0.8;\"/>\r\n   </g>\r\n   <g id=\"patch_5\">\r\n    <path d=\"M 30.103125 224.64 \r\nL 364.903125 224.64 \r\n\" style=\"fill:none;stroke:#000000;stroke-linecap:square;stroke-linejoin:miter;stroke-width:0.8;\"/>\r\n   </g>\r\n   <g id=\"patch_6\">\r\n    <path d=\"M 30.103125 7.2 \r\nL 364.903125 7.2 \r\n\" style=\"fill:none;stroke:#000000;stroke-linecap:square;stroke-linejoin:miter;stroke-width:0.8;\"/>\r\n   </g>\r\n  </g>\r\n </g>\r\n <defs>\r\n  <clipPath id=\"pff11b1e669\">\r\n   <rect height=\"217.44\" width=\"334.8\" x=\"30.103125\" y=\"7.2\"/>\r\n  </clipPath>\r\n </defs>\r\n</svg>\r\n",
      "image/png": "[encoded data removed]"
     },
     "metadata": {
      "needs_background": "light"
     }
    }
   ],
   "source": [
    "from scipy import stats\n",
    "import matplotlib.pyplot as plt\n",
    "\n",
    "# load the dataset\n",
    "X = breast_cancer.data\n",
    "y = breast_cancer.target[:, np.newaxis]\n",
    "\n",
    "#Normalize X\n",
    "for feature in range(len(X[1,:])):\n",
    "    values = X[:, feature]\n",
    "    min = np.amin(values)\n",
    "    max = np.amax(values)\n",
    "    for patient in range(len(values)):\n",
    "        X[patient,feature] = (X[patient,feature] - min) / (max - min)\n",
    "\n",
    "# First 400 patients train, 169 test\n",
    "X_train = X[:400, :]\n",
    "y_train = breast_cancer.target[:400, np.newaxis]\n",
    "X_test = X[400:, :]\n",
    "y_test = breast_cancer.target[400:, np.newaxis]\n",
    "\n",
    "# Specify which point to classify\n",
    "newpoint =  X_test[0]\n",
    "\n",
    "#The kNN function\n",
    "\n",
    "def kNNclassifier(X, y, newpoint, k):\n",
    "    # Calculate euclidean distance\n",
    "    distancelist = np.zeros(np.shape(y))\n",
    "    for patient in range(len(X[:, 1])):\n",
    "        values = X[patient,:]\n",
    "        distance = 0\n",
    "        for feature in range(len(newpoint)):\n",
    "            distance += (values[feature] - newpoint[feature]) ** 2 \n",
    "        distance = np.sqrt(distance)\n",
    "        distancelist[patient] = distance\n",
    "\n",
    "    #Add distancelist to the outcome\n",
    "    class_distance_list = np.append(distancelist, y, axis=1)\n",
    "\n",
    "    #Sort low to high on distance\n",
    "    sorted_class_distance = class_distance_list[class_distance_list[:,0].argsort()]\n",
    "\n",
    "    #Only use k neighbours\n",
    "    class_neighbours = np.zeros(k)\n",
    "    for i in range(k):\n",
    "        class_neighbours[i] = sorted_class_distance[i,1]\n",
    "\n",
    "    #Most frequent value is y_pred\n",
    "    mode, count = stats.mode(class_neighbours)\n",
    "    y_pred = mode[0]\n",
    "    return y_pred\n",
    "\n",
    "# Apply function for different k values\n",
    "k = np.linspace(2,400,50, dtype=np.int32)\n",
    "#fig = plt.figure()\n",
    "for experiment in k:\n",
    "    #print(experiment)\n",
    "    y_pred = kNNclassifier(X_train, y_train, newpoint, experiment)\n",
    "    plt.scatter(experiment, y_pred, c='k')\n",
    "    #print(y_pred)\n",
    "\n",
    "plt.show()"
   ]
  },
  {
   "cell_type": "markdown",
   "metadata": {},
   "source": [
    "### $k$-NN regression\n",
    "\n",
    "Modify the $k$-NN implementation to do regression instead of classification. Compare the performance of the linear regression model and the $k$-NN regression model on the diabetes dataset for different values of $k$.."
   ]
  },
  {
   "cell_type": "code",
   "execution_count": 11,
   "metadata": {
    "tags": []
   },
   "outputs": [
    {
     "output_type": "stream",
     "name": "stdout",
     "text": "[0.56666667 0.         0.62809917 0.29107981 0.43627451 0.3247012\n 0.31168831 0.2877292  0.6507333  0.66666667] (10,)\n268.5 ()\n[0.56666667 0.         0.62809917 0.29107981 0.43627451 0.3247012\n 0.31168831 0.2877292  0.6507333  0.66666667] (10,)\n205.16666666666666 ()\n[0.56666667 0.         0.62809917 0.29107981 0.43627451 0.3247012\n 0.31168831 0.2877292  0.6507333  0.66666667] (10,)\n196.9 ()\n[0.56666667 0.         0.62809917 0.29107981 0.43627451 0.3247012\n 0.31168831 0.2877292  0.6507333  0.66666667] (10,)\n196.57142857142858 ()\n[0.56666667 0.         0.62809917 0.29107981 0.43627451 0.3247012\n 0.31168831 0.2877292  0.6507333  0.66666667] (10,)\n195.66666666666666 ()\n[0.56666667 0.         0.62809917 0.29107981 0.43627451 0.3247012\n 0.31168831 0.2877292  0.6507333  0.66666667] (10,)\n203.22727272727272 ()\n[0.56666667 0.         0.62809917 0.29107981 0.43627451 0.3247012\n 0.31168831 0.2877292  0.6507333  0.66666667] (10,)\n204.07692307692307 ()\n[0.56666667 0.         0.62809917 0.29107981 0.43627451 0.3247012\n 0.31168831 0.2877292  0.6507333  0.66666667] (10,)\n198.53333333333333 ()\n[0.56666667 0.         0.62809917 0.29107981 0.43627451 0.3247012\n 0.31168831 0.2877292  0.6507333  0.66666667] (10,)\n194.88235294117646 ()\n[0.56666667 0.         0.62809917 0.29107981 0.43627451 0.3247012\n 0.31168831 0.2877292  0.6507333  0.66666667] (10,)\n192.6578947368421 ()\n[0.56666667 0.         0.62809917 0.29107981 0.43627451 0.3247012\n 0.31168831 0.2877292  0.6507333  0.66666667] (10,)\n188.11904761904762 ()\n[0.56666667 0.         0.62809917 0.29107981 0.43627451 0.3247012\n 0.31168831 0.2877292  0.6507333  0.66666667] (10,)\n184.58695652173913 ()\n[0.56666667 0.         0.62809917 0.29107981 0.43627451 0.3247012\n 0.31168831 0.2877292  0.6507333  0.66666667] (10,)\n180.08 ()\n[0.56666667 0.         0.62809917 0.29107981 0.43627451 0.3247012\n 0.31168831 0.2877292  0.6507333  0.66666667] (10,)\n179.57407407407408 ()\n[0.56666667 0.         0.62809917 0.29107981 0.43627451 0.3247012\n 0.31168831 0.2877292  0.6507333  0.66666667] (10,)\n178.77586206896552 ()\n[0.56666667 0.         0.62809917 0.29107981 0.43627451 0.3247012\n 0.31168831 0.2877292  0.6507333  0.66666667] (10,)\n176.0483870967742 ()\n[0.56666667 0.         0.62809917 0.29107981 0.43627451 0.3247012\n 0.31168831 0.2877292  0.6507333  0.66666667] (10,)\n173.36363636363637 ()\n[0.56666667 0.         0.62809917 0.29107981 0.43627451 0.3247012\n 0.31168831 0.2877292  0.6507333  0.66666667] (10,)\n169.44285714285715 ()\n[0.56666667 0.         0.62809917 0.29107981 0.43627451 0.3247012\n 0.31168831 0.2877292  0.6507333  0.66666667] (10,)\n167.1216216216216 ()\n[0.56666667 0.         0.62809917 0.29107981 0.43627451 0.3247012\n 0.31168831 0.2877292  0.6507333  0.66666667] (10,)\n165.23076923076923 ()\n[0.56666667 0.         0.62809917 0.29107981 0.43627451 0.3247012\n 0.31168831 0.2877292  0.6507333  0.66666667] (10,)\n161.85365853658536 ()\n[0.56666667 0.         0.62809917 0.29107981 0.43627451 0.3247012\n 0.31168831 0.2877292  0.6507333  0.66666667] (10,)\n162.3953488372093 ()\n[0.56666667 0.         0.62809917 0.29107981 0.43627451 0.3247012\n 0.31168831 0.2877292  0.6507333  0.66666667] (10,)\n162.8111111111111 ()\n[0.56666667 0.         0.62809917 0.29107981 0.43627451 0.3247012\n 0.31168831 0.2877292  0.6507333  0.66666667] (10,)\n164.12765957446808 ()\n[0.56666667 0.         0.62809917 0.29107981 0.43627451 0.3247012\n 0.31168831 0.2877292  0.6507333  0.66666667] (10,)\n166.9795918367347 ()\n[0.56666667 0.         0.62809917 0.29107981 0.43627451 0.3247012\n 0.31168831 0.2877292  0.6507333  0.66666667] (10,)\n165.10679611650485 ()\n[0.56666667 0.         0.62809917 0.29107981 0.43627451 0.3247012\n 0.31168831 0.2877292  0.6507333  0.66666667] (10,)\n162.9532710280374 ()\n[0.56666667 0.         0.62809917 0.29107981 0.43627451 0.3247012\n 0.31168831 0.2877292  0.6507333  0.66666667] (10,)\n160.59459459459458 ()\n[0.56666667 0.         0.62809917 0.29107981 0.43627451 0.3247012\n 0.31168831 0.2877292  0.6507333  0.66666667] (10,)\n160.3217391304348 ()\n[0.56666667 0.         0.62809917 0.29107981 0.43627451 0.3247012\n 0.31168831 0.2877292  0.6507333  0.66666667] (10,)\n158.81512605042016 ()\n[0.56666667 0.         0.62809917 0.29107981 0.43627451 0.3247012\n 0.31168831 0.2877292  0.6507333  0.66666667] (10,)\n156.45528455284554 ()\n[0.56666667 0.         0.62809917 0.29107981 0.43627451 0.3247012\n 0.31168831 0.2877292  0.6507333  0.66666667] (10,)\n156.41732283464566 ()\n[0.56666667 0.         0.62809917 0.29107981 0.43627451 0.3247012\n 0.31168831 0.2877292  0.6507333  0.66666667] (10,)\n154.6259541984733 ()\n[0.56666667 0.         0.62809917 0.29107981 0.43627451 0.3247012\n 0.31168831 0.2877292  0.6507333  0.66666667] (10,)\n153.6888888888889 ()\n[0.56666667 0.         0.62809917 0.29107981 0.43627451 0.3247012\n 0.31168831 0.2877292  0.6507333  0.66666667] (10,)\n152.85611510791367 ()\n[0.56666667 0.         0.62809917 0.29107981 0.43627451 0.3247012\n 0.31168831 0.2877292  0.6507333  0.66666667] (10,)\n150.34965034965035 ()\n[0.56666667 0.         0.62809917 0.29107981 0.43627451 0.3247012\n 0.31168831 0.2877292  0.6507333  0.66666667] (10,)\n150.23809523809524 ()\n[0.56666667 0.         0.62809917 0.29107981 0.43627451 0.3247012\n 0.31168831 0.2877292  0.6507333  0.66666667] (10,)\n148.34437086092714 ()\n[0.56666667 0.         0.62809917 0.29107981 0.43627451 0.3247012\n 0.31168831 0.2877292  0.6507333  0.66666667] (10,)\n146.88387096774193 ()\n[0.56666667 0.         0.62809917 0.29107981 0.43627451 0.3247012\n 0.31168831 0.2877292  0.6507333  0.66666667] (10,)\n145.9308176100629 ()\n[0.56666667 0.         0.62809917 0.29107981 0.43627451 0.3247012\n 0.31168831 0.2877292  0.6507333  0.66666667] (10,)\n147.49693251533742 ()\n[0.56666667 0.         0.62809917 0.29107981 0.43627451 0.3247012\n 0.31168831 0.2877292  0.6507333  0.66666667] (10,)\n148.47305389221557 ()\n[0.56666667 0.         0.62809917 0.29107981 0.43627451 0.3247012\n 0.31168831 0.2877292  0.6507333  0.66666667] (10,)\n148.29239766081872 ()\n[0.56666667 0.         0.62809917 0.29107981 0.43627451 0.3247012\n 0.31168831 0.2877292  0.6507333  0.66666667] (10,)\n146.82285714285715 ()\n[0.56666667 0.         0.62809917 0.29107981 0.43627451 0.3247012\n 0.31168831 0.2877292  0.6507333  0.66666667] (10,)\n147.00558659217876 ()\n[0.56666667 0.         0.62809917 0.29107981 0.43627451 0.3247012\n 0.31168831 0.2877292  0.6507333  0.66666667] (10,)\n147.18579234972677 ()\n[0.56666667 0.         0.62809917 0.29107981 0.43627451 0.3247012\n 0.31168831 0.2877292  0.6507333  0.66666667] (10,)\n148.22994652406416 ()\n[0.56666667 0.         0.62809917 0.29107981 0.43627451 0.3247012\n 0.31168831 0.2877292  0.6507333  0.66666667] (10,)\n148.58115183246073 ()\n[0.56666667 0.         0.62809917 0.29107981 0.43627451 0.3247012\n 0.31168831 0.2877292  0.6507333  0.66666667] (10,)\n149.32820512820513 ()\n[0.56666667 0.         0.62809917 0.29107981 0.43627451 0.3247012\n 0.31168831 0.2877292  0.6507333  0.66666667] (10,)\n151.11 ()\n"
    }
   ],
   "source": [
    "from scipy import stats\n",
    "import matplotlib.pyplot as plt\n",
    "\n",
    "X = diabetes.data\n",
    "Y = diabetes.target[:, np.newaxis]\n",
    "\n",
    "#Normalize X\n",
    "for feature in range(len(X[1,:])):\n",
    "    values = X[:, feature]\n",
    "    min = np.amin(values)\n",
    "    max = np.amax(values)\n",
    "    for patient in range(len(values)):\n",
    "        X[patient,feature] = (X[patient,feature] - min) / (max - min)\n",
    "\n",
    "# Split in train and test\n",
    "X_train = X[:300, :]\n",
    "y_train = diabetes.target[:300, np.newaxis]\n",
    "X_test = X[300:, :]\n",
    "y_test = diabetes.target[300:, np.newaxis]\n",
    "\n",
    "#kNN regression function\n",
    "def kNNregression(X, y, newpoint, k):\n",
    "    # Calculate euclidean distance\n",
    "    distancelist = np.zeros(np.shape(y))\n",
    "    for patient in range(len(X[:, 1])):\n",
    "        values = X[patient,:]\n",
    "        distance = 0\n",
    "        for feature in range(len(newpoint)):\n",
    "            distance += (values[feature] - newpoint[feature]) ** 2 \n",
    "        distance = np.sqrt(distance)\n",
    "        distancelist[patient] = distance\n",
    "\n",
    "    #Add prediction to corresponding distance\n",
    "    class_distance_list = np.append(distancelist, y, axis=1)\n",
    "\n",
    "    #Sort low to high on distance\n",
    "    sorted_class_distance = class_distance_list[class_distance_list[:,0].argsort()]\n",
    "\n",
    "    #Only use k neighbours\n",
    "    value_neighbours = np.zeros(k)\n",
    "    for i in range(k):\n",
    "        value_neighbours[i] = sorted_class_distance[i,1]\n",
    "\n",
    "    #Average value is y_pred\n",
    "    #print('neighbours', value_neighbours)\n",
    "    y_pred = np.mean(value_neighbours)\n",
    "    #y_pred = mode[0]\n",
    "    \n",
    "    return y_pred\n",
    "\n",
    "newpoint = X_test[0]\n",
    "\n",
    "#linear regression vs kNN regression\n",
    "import sys\n",
    "sys.path.append('code/')\n",
    "from linear_regression import *\n",
    "\n",
    "k = np.linspace(2,200,50, dtype=np.int32)\n",
    "for experiment in k:\n",
    "\n",
    "    #plt.scatter(experiment, y_pred_clas, c='k')\n",
    "    y_pred_reg = kNNregression(X_train, y_train, newpoint, experiment)\n",
    "    print(newpoint, np.shape(newpoint))\n",
    "    print(y_pred_reg, np.shape(y_pred_reg))\n",
    "    MSE_reg = np.square(np.subtract(newpoint,y_pred_reg))\n",
    "    #plt.scatter(experiment, y_pred_reg, c='r')\n",
    "    #plt.scatter(experiment, MSE_reg, c='k')\n",
    "#Calc lin regression\n",
    "#beta = lsq(X_train, y_train)\n",
    "#MSE_lin_reg = calcMSEmatrix(X_test, y_test, beta)\n",
    "#plt.scatter(k, MSE_lin_reg, 'r')\n",
    "#plt.xlabel('k')\n",
    "#plt.ylabel('MSE')\n",
    "#plt.show()\n",
    "    #print(y_pred)\n",
    "\n"
   ]
  },
  {
   "cell_type": "markdown",
   "metadata": {},
   "source": [
    "### Class-conditional probability\n",
    "\n",
    "Compute and visualize the class-conditional probability (conditional probability where the class label is the conditional variable, i.e. $P(X = x \\mid Y = y)$ for all features in the breast cancer dataset. Assume a Gaussian distribution.\n",
    "\n",
    "<p><font color='#770a0a'>Based on visual analysis of the plots, which individual feature can best discriminate between the two classes? Motivate your answer.</font></p>\n",
    "\n"
   ]
  },
  {
   "cell_type": "code",
   "execution_count": 9,
   "metadata": {
    "tags": []
   },
   "outputs": [
    {
     "output_type": "display_data",
     "data": {
      "text/plain": "<Figure size 432x288 with 1 Axes>",
      "image/svg+xml": "<?xml version=\"1.0\" encoding=\"utf-8\" standalone=\"no\"?>\r\n<!DOCTYPE svg PUBLIC \"-//W3C//DTD SVG 1.1//EN\"\r\n  \"http://www.w3.org/Graphics/SVG/1.1/DTD/svg11.dtd\">\r\n<!-- Created with matplotlib (https://matplotlib.org/) -->\r\n<svg height=\"248.518125pt\" version=\"1.1\" viewBox=\"0 0 362.5625 248.518125\" width=\"362.5625pt\" xmlns=\"http://www.w3.org/2000/svg\" xmlns:xlink=\"http://www.w3.org/1999/xlink\">\r\n <metadata>\r\n  <rdf:RDF xmlns:cc=\"http://creativecommons.org/ns#\" xmlns:dc=\"http://purl.org/dc/elements/1.1/\" xmlns:rdf=\"http://www.w3.org/1999/02/22-rdf-syntax-ns#\">\r\n   <cc:Work>\r\n    <dc:type rdf:resource=\"http://purl.org/dc/dcmitype/StillImage\"/>\r\n    <dc:date>2020-09-09T15:27:04.624627</dc:date>\r\n    <dc:format>image/svg+xml</dc:format>\r\n    <dc:creator>\r\n     <cc:Agent>\r\n      <dc:title>Matplotlib v3.3.1, https://matplotlib.org/</dc:title>\r\n     </cc:Agent>\r\n    </dc:creator>\r\n   </cc:Work>\r\n  </rdf:RDF>\r\n </metadata>\r\n <defs>\r\n  <style type=\"text/css\">*{stroke-linecap:butt;stroke-linejoin:round;}</style>\r\n </defs>\r\n <g id=\"figure_1\">\r\n  <g id=\"patch_1\">\r\n   <path d=\"M 0 248.518125 \r\nL 362.5625 248.518125 \r\nL 362.5625 0 \r\nL 0 0 \r\nz\r\n\" style=\"fill:none;\"/>\r\n  </g>\r\n  <g id=\"axes_1\">\r\n   <g id=\"patch_2\">\r\n    <path d=\"M 20.5625 224.64 \r\nL 355.3625 224.64 \r\nL 355.3625 7.2 \r\nL 20.5625 7.2 \r\nz\r\n\" style=\"fill:#ffffff;\"/>\r\n   </g>\r\n   <g id=\"matplotlib.axis_1\">\r\n    <g id=\"xtick_1\">\r\n     <g id=\"line2d_1\">\r\n      <defs>\r\n       <path d=\"M 0 0 \r\nL 0 3.5 \r\n\" id=\"md2843eafe2\" style=\"stroke:#000000;stroke-width:0.8;\"/>\r\n      </defs>\r\n      <g>\r\n       <use style=\"stroke:#000000;stroke-width:0.8;\" x=\"38.314965\" xlink:href=\"#md2843eafe2\" y=\"224.64\"/>\r\n      </g>\r\n     </g>\r\n     <g id=\"text_1\">\r\n      <!-- 0.0 -->\r\n      <g transform=\"translate(30.363402 239.238437)scale(0.1 -0.1)\">\r\n       <defs>\r\n        <path d=\"M 31.78125 66.40625 \r\nQ 24.171875 66.40625 20.328125 58.90625 \r\nQ 16.5 51.421875 16.5 36.375 \r\nQ 16.5 21.390625 20.328125 13.890625 \r\nQ 24.171875 6.390625 31.78125 6.390625 \r\nQ 39.453125 6.390625 43.28125 13.890625 \r\nQ 47.125 21.390625 47.125 36.375 \r\nQ 47.125 51.421875 43.28125 58.90625 \r\nQ 39.453125 66.40625 31.78125 66.40625 \r\nz\r\nM 31.78125 74.21875 \r\nQ 44.046875 74.21875 50.515625 64.515625 \r\nQ 56.984375 54.828125 56.984375 36.375 \r\nQ 56.984375 17.96875 50.515625 8.265625 \r\nQ 44.046875 -1.421875 31.78125 -1.421875 \r\nQ 19.53125 -1.421875 13.0625 8.265625 \r\nQ 6.59375 17.96875 6.59375 36.375 \r\nQ 6.59375 54.828125 13.0625 64.515625 \r\nQ 19.53125 74.21875 31.78125 74.21875 \r\nz\r\n\" id=\"DejaVuSans-48\"/>\r\n        <path d=\"M 10.6875 12.40625 \r\nL 21 12.40625 \r\nL 21 0 \r\nL 10.6875 0 \r\nz\r\n\" id=\"DejaVuSans-46\"/>\r\n       </defs>\r\n       <use xlink:href=\"#DejaVuSans-48\"/>\r\n       <use x=\"63.623047\" xlink:href=\"#DejaVuSans-46\"/>\r\n       <use x=\"95.410156\" xlink:href=\"#DejaVuSans-48\"/>\r\n      </g>\r\n     </g>\r\n    </g>\r\n    <g id=\"xtick_2\">\r\n     <g id=\"line2d_2\">\r\n      <g>\r\n       <use style=\"stroke:#000000;stroke-width:0.8;\" x=\"101.862745\" xlink:href=\"#md2843eafe2\" y=\"224.64\"/>\r\n      </g>\r\n     </g>\r\n     <g id=\"text_2\">\r\n      <!-- 0.2 -->\r\n      <g transform=\"translate(93.911182 239.238437)scale(0.1 -0.1)\">\r\n       <defs>\r\n        <path d=\"M 19.1875 8.296875 \r\nL 53.609375 8.296875 \r\nL 53.609375 0 \r\nL 7.328125 0 \r\nL 7.328125 8.296875 \r\nQ 12.9375 14.109375 22.625 23.890625 \r\nQ 32.328125 33.6875 34.8125 36.53125 \r\nQ 39.546875 41.84375 41.421875 45.53125 \r\nQ 43.3125 49.21875 43.3125 52.78125 \r\nQ 43.3125 58.59375 39.234375 62.25 \r\nQ 35.15625 65.921875 28.609375 65.921875 \r\nQ 23.96875 65.921875 18.8125 64.3125 \r\nQ 13.671875 62.703125 7.8125 59.421875 \r\nL 7.8125 69.390625 \r\nQ 13.765625 71.78125 18.9375 73 \r\nQ 24.125 74.21875 28.421875 74.21875 \r\nQ 39.75 74.21875 46.484375 68.546875 \r\nQ 53.21875 62.890625 53.21875 53.421875 \r\nQ 53.21875 48.921875 51.53125 44.890625 \r\nQ 49.859375 40.875 45.40625 35.40625 \r\nQ 44.1875 33.984375 37.640625 27.21875 \r\nQ 31.109375 20.453125 19.1875 8.296875 \r\nz\r\n\" id=\"DejaVuSans-50\"/>\r\n       </defs>\r\n       <use xlink:href=\"#DejaVuSans-48\"/>\r\n       <use x=\"63.623047\" xlink:href=\"#DejaVuSans-46\"/>\r\n       <use x=\"95.410156\" xlink:href=\"#DejaVuSans-50\"/>\r\n      </g>\r\n     </g>\r\n    </g>\r\n    <g id=\"xtick_3\">\r\n     <g id=\"line2d_3\">\r\n      <g>\r\n       <use style=\"stroke:#000000;stroke-width:0.8;\" x=\"165.410524\" xlink:href=\"#md2843eafe2\" y=\"224.64\"/>\r\n      </g>\r\n     </g>\r\n     <g id=\"text_3\">\r\n      <!-- 0.4 -->\r\n      <g transform=\"translate(157.458962 239.238437)scale(0.1 -0.1)\">\r\n       <defs>\r\n        <path d=\"M 37.796875 64.3125 \r\nL 12.890625 25.390625 \r\nL 37.796875 25.390625 \r\nz\r\nM 35.203125 72.90625 \r\nL 47.609375 72.90625 \r\nL 47.609375 25.390625 \r\nL 58.015625 25.390625 \r\nL 58.015625 17.1875 \r\nL 47.609375 17.1875 \r\nL 47.609375 0 \r\nL 37.796875 0 \r\nL 37.796875 17.1875 \r\nL 4.890625 17.1875 \r\nL 4.890625 26.703125 \r\nz\r\n\" id=\"DejaVuSans-52\"/>\r\n       </defs>\r\n       <use xlink:href=\"#DejaVuSans-48\"/>\r\n       <use x=\"63.623047\" xlink:href=\"#DejaVuSans-46\"/>\r\n       <use x=\"95.410156\" xlink:href=\"#DejaVuSans-52\"/>\r\n      </g>\r\n     </g>\r\n    </g>\r\n    <g id=\"xtick_4\">\r\n     <g id=\"line2d_4\">\r\n      <g>\r\n       <use style=\"stroke:#000000;stroke-width:0.8;\" x=\"228.958304\" xlink:href=\"#md2843eafe2\" y=\"224.64\"/>\r\n      </g>\r\n     </g>\r\n     <g id=\"text_4\">\r\n      <!-- 0.6 -->\r\n      <g transform=\"translate(221.006742 239.238437)scale(0.1 -0.1)\">\r\n       <defs>\r\n        <path d=\"M 33.015625 40.375 \r\nQ 26.375 40.375 22.484375 35.828125 \r\nQ 18.609375 31.296875 18.609375 23.390625 \r\nQ 18.609375 15.53125 22.484375 10.953125 \r\nQ 26.375 6.390625 33.015625 6.390625 \r\nQ 39.65625 6.390625 43.53125 10.953125 \r\nQ 47.40625 15.53125 47.40625 23.390625 \r\nQ 47.40625 31.296875 43.53125 35.828125 \r\nQ 39.65625 40.375 33.015625 40.375 \r\nz\r\nM 52.59375 71.296875 \r\nL 52.59375 62.3125 \r\nQ 48.875 64.0625 45.09375 64.984375 \r\nQ 41.3125 65.921875 37.59375 65.921875 \r\nQ 27.828125 65.921875 22.671875 59.328125 \r\nQ 17.53125 52.734375 16.796875 39.40625 \r\nQ 19.671875 43.65625 24.015625 45.921875 \r\nQ 28.375 48.1875 33.59375 48.1875 \r\nQ 44.578125 48.1875 50.953125 41.515625 \r\nQ 57.328125 34.859375 57.328125 23.390625 \r\nQ 57.328125 12.15625 50.6875 5.359375 \r\nQ 44.046875 -1.421875 33.015625 -1.421875 \r\nQ 20.359375 -1.421875 13.671875 8.265625 \r\nQ 6.984375 17.96875 6.984375 36.375 \r\nQ 6.984375 53.65625 15.1875 63.9375 \r\nQ 23.390625 74.21875 37.203125 74.21875 \r\nQ 40.921875 74.21875 44.703125 73.484375 \r\nQ 48.484375 72.75 52.59375 71.296875 \r\nz\r\n\" id=\"DejaVuSans-54\"/>\r\n       </defs>\r\n       <use xlink:href=\"#DejaVuSans-48\"/>\r\n       <use x=\"63.623047\" xlink:href=\"#DejaVuSans-46\"/>\r\n       <use x=\"95.410156\" xlink:href=\"#DejaVuSans-54\"/>\r\n      </g>\r\n     </g>\r\n    </g>\r\n    <g id=\"xtick_5\">\r\n     <g id=\"line2d_5\">\r\n      <g>\r\n       <use style=\"stroke:#000000;stroke-width:0.8;\" x=\"292.506084\" xlink:href=\"#md2843eafe2\" y=\"224.64\"/>\r\n      </g>\r\n     </g>\r\n     <g id=\"text_5\">\r\n      <!-- 0.8 -->\r\n      <g transform=\"translate(284.554522 239.238437)scale(0.1 -0.1)\">\r\n       <defs>\r\n        <path d=\"M 31.78125 34.625 \r\nQ 24.75 34.625 20.71875 30.859375 \r\nQ 16.703125 27.09375 16.703125 20.515625 \r\nQ 16.703125 13.921875 20.71875 10.15625 \r\nQ 24.75 6.390625 31.78125 6.390625 \r\nQ 38.8125 6.390625 42.859375 10.171875 \r\nQ 46.921875 13.96875 46.921875 20.515625 \r\nQ 46.921875 27.09375 42.890625 30.859375 \r\nQ 38.875 34.625 31.78125 34.625 \r\nz\r\nM 21.921875 38.8125 \r\nQ 15.578125 40.375 12.03125 44.71875 \r\nQ 8.5 49.078125 8.5 55.328125 \r\nQ 8.5 64.0625 14.71875 69.140625 \r\nQ 20.953125 74.21875 31.78125 74.21875 \r\nQ 42.671875 74.21875 48.875 69.140625 \r\nQ 55.078125 64.0625 55.078125 55.328125 \r\nQ 55.078125 49.078125 51.53125 44.71875 \r\nQ 48 40.375 41.703125 38.8125 \r\nQ 48.828125 37.15625 52.796875 32.3125 \r\nQ 56.78125 27.484375 56.78125 20.515625 \r\nQ 56.78125 9.90625 50.3125 4.234375 \r\nQ 43.84375 -1.421875 31.78125 -1.421875 \r\nQ 19.734375 -1.421875 13.25 4.234375 \r\nQ 6.78125 9.90625 6.78125 20.515625 \r\nQ 6.78125 27.484375 10.78125 32.3125 \r\nQ 14.796875 37.15625 21.921875 38.8125 \r\nz\r\nM 18.3125 54.390625 \r\nQ 18.3125 48.734375 21.84375 45.5625 \r\nQ 25.390625 42.390625 31.78125 42.390625 \r\nQ 38.140625 42.390625 41.71875 45.5625 \r\nQ 45.3125 48.734375 45.3125 54.390625 \r\nQ 45.3125 60.0625 41.71875 63.234375 \r\nQ 38.140625 66.40625 31.78125 66.40625 \r\nQ 25.390625 66.40625 21.84375 63.234375 \r\nQ 18.3125 60.0625 18.3125 54.390625 \r\nz\r\n\" id=\"DejaVuSans-56\"/>\r\n       </defs>\r\n       <use xlink:href=\"#DejaVuSans-48\"/>\r\n       <use x=\"63.623047\" xlink:href=\"#DejaVuSans-46\"/>\r\n       <use x=\"95.410156\" xlink:href=\"#DejaVuSans-56\"/>\r\n      </g>\r\n     </g>\r\n    </g>\r\n   </g>\r\n   <g id=\"matplotlib.axis_2\">\r\n    <g id=\"ytick_1\">\r\n     <g id=\"line2d_6\">\r\n      <defs>\r\n       <path d=\"M 0 0 \r\nL -3.5 0 \r\n\" id=\"m1f0b26354b\" style=\"stroke:#000000;stroke-width:0.8;\"/>\r\n      </defs>\r\n      <g>\r\n       <use style=\"stroke:#000000;stroke-width:0.8;\" x=\"20.5625\" xlink:href=\"#m1f0b26354b\" y=\"215.986032\"/>\r\n      </g>\r\n     </g>\r\n     <g id=\"text_6\">\r\n      <!-- 0 -->\r\n      <g transform=\"translate(7.2 219.785251)scale(0.1 -0.1)\">\r\n       <use xlink:href=\"#DejaVuSans-48\"/>\r\n      </g>\r\n     </g>\r\n    </g>\r\n    <g id=\"ytick_2\">\r\n     <g id=\"line2d_7\">\r\n      <g>\r\n       <use style=\"stroke:#000000;stroke-width:0.8;\" x=\"20.5625\" xlink:href=\"#m1f0b26354b\" y=\"174.011476\"/>\r\n      </g>\r\n     </g>\r\n     <g id=\"text_7\">\r\n      <!-- 1 -->\r\n      <g transform=\"translate(7.2 177.810694)scale(0.1 -0.1)\">\r\n       <defs>\r\n        <path d=\"M 12.40625 8.296875 \r\nL 28.515625 8.296875 \r\nL 28.515625 63.921875 \r\nL 10.984375 60.40625 \r\nL 10.984375 69.390625 \r\nL 28.421875 72.90625 \r\nL 38.28125 72.90625 \r\nL 38.28125 8.296875 \r\nL 54.390625 8.296875 \r\nL 54.390625 0 \r\nL 12.40625 0 \r\nz\r\n\" id=\"DejaVuSans-49\"/>\r\n       </defs>\r\n       <use xlink:href=\"#DejaVuSans-49\"/>\r\n      </g>\r\n     </g>\r\n    </g>\r\n    <g id=\"ytick_3\">\r\n     <g id=\"line2d_8\">\r\n      <g>\r\n       <use style=\"stroke:#000000;stroke-width:0.8;\" x=\"20.5625\" xlink:href=\"#m1f0b26354b\" y=\"132.036919\"/>\r\n      </g>\r\n     </g>\r\n     <g id=\"text_8\">\r\n      <!-- 2 -->\r\n      <g transform=\"translate(7.2 135.836138)scale(0.1 -0.1)\">\r\n       <use xlink:href=\"#DejaVuSans-50\"/>\r\n      </g>\r\n     </g>\r\n    </g>\r\n    <g id=\"ytick_4\">\r\n     <g id=\"line2d_9\">\r\n      <g>\r\n       <use style=\"stroke:#000000;stroke-width:0.8;\" x=\"20.5625\" xlink:href=\"#m1f0b26354b\" y=\"90.062363\"/>\r\n      </g>\r\n     </g>\r\n     <g id=\"text_9\">\r\n      <!-- 3 -->\r\n      <g transform=\"translate(7.2 93.861582)scale(0.1 -0.1)\">\r\n       <defs>\r\n        <path d=\"M 40.578125 39.3125 \r\nQ 47.65625 37.796875 51.625 33 \r\nQ 55.609375 28.21875 55.609375 21.1875 \r\nQ 55.609375 10.40625 48.1875 4.484375 \r\nQ 40.765625 -1.421875 27.09375 -1.421875 \r\nQ 22.515625 -1.421875 17.65625 -0.515625 \r\nQ 12.796875 0.390625 7.625 2.203125 \r\nL 7.625 11.71875 \r\nQ 11.71875 9.328125 16.59375 8.109375 \r\nQ 21.484375 6.890625 26.8125 6.890625 \r\nQ 36.078125 6.890625 40.9375 10.546875 \r\nQ 45.796875 14.203125 45.796875 21.1875 \r\nQ 45.796875 27.640625 41.28125 31.265625 \r\nQ 36.765625 34.90625 28.71875 34.90625 \r\nL 20.21875 34.90625 \r\nL 20.21875 43.015625 \r\nL 29.109375 43.015625 \r\nQ 36.375 43.015625 40.234375 45.921875 \r\nQ 44.09375 48.828125 44.09375 54.296875 \r\nQ 44.09375 59.90625 40.109375 62.90625 \r\nQ 36.140625 65.921875 28.71875 65.921875 \r\nQ 24.65625 65.921875 20.015625 65.03125 \r\nQ 15.375 64.15625 9.8125 62.3125 \r\nL 9.8125 71.09375 \r\nQ 15.4375 72.65625 20.34375 73.4375 \r\nQ 25.25 74.21875 29.59375 74.21875 \r\nQ 40.828125 74.21875 47.359375 69.109375 \r\nQ 53.90625 64.015625 53.90625 55.328125 \r\nQ 53.90625 49.265625 50.4375 45.09375 \r\nQ 46.96875 40.921875 40.578125 39.3125 \r\nz\r\n\" id=\"DejaVuSans-51\"/>\r\n       </defs>\r\n       <use xlink:href=\"#DejaVuSans-51\"/>\r\n      </g>\r\n     </g>\r\n    </g>\r\n    <g id=\"ytick_5\">\r\n     <g id=\"line2d_10\">\r\n      <g>\r\n       <use style=\"stroke:#000000;stroke-width:0.8;\" x=\"20.5625\" xlink:href=\"#m1f0b26354b\" y=\"48.087806\"/>\r\n      </g>\r\n     </g>\r\n     <g id=\"text_10\">\r\n      <!-- 4 -->\r\n      <g transform=\"translate(7.2 51.887025)scale(0.1 -0.1)\">\r\n       <use xlink:href=\"#DejaVuSans-52\"/>\r\n      </g>\r\n     </g>\r\n    </g>\r\n   </g>\r\n   <g id=\"line2d_11\">\r\n    <path clip-path=\"url(#p99c603255b)\" d=\"M 51.738126 214.756364 \r\nL 54.651319 214.513879 \r\nL 57.564513 214.230039 \r\nL 60.477707 213.899152 \r\nL 63.390901 213.515008 \r\nL 66.304095 213.07088 \r\nL 69.217289 212.559537 \r\nL 72.130483 211.973265 \r\nL 75.043677 211.303912 \r\nL 77.95687 210.542936 \r\nL 80.870064 209.681481 \r\nL 83.783258 208.71046 \r\nL 86.696452 207.620667 \r\nL 89.609646 206.4029 \r\nL 92.52284 205.048109 \r\nL 95.436034 203.54756 \r\nL 98.349227 201.893015 \r\nL 101.262421 200.076927 \r\nL 104.175615 198.092656 \r\nL 107.088809 195.934681 \r\nL 110.002003 193.598832 \r\nL 112.915197 191.082513 \r\nL 115.828391 188.384928 \r\nL 118.741584 185.507294 \r\nL 121.654778 182.45304 \r\nL 124.567972 179.227986 \r\nL 127.481166 175.840489 \r\nL 130.39436 172.301565 \r\nL 133.307554 168.624957 \r\nL 136.220748 164.827173 \r\nL 139.133942 160.92746 \r\nL 142.047135 156.947734 \r\nL 144.960329 152.912447 \r\nL 147.873523 148.848404 \r\nL 150.786717 144.784511 \r\nL 153.699911 140.75148 \r\nL 156.613105 136.781468 \r\nL 159.526299 132.907681 \r\nL 162.439492 129.163924 \r\nL 165.352686 125.584128 \r\nL 168.26588 122.201844 \r\nL 171.179074 119.049726 \r\nL 174.092268 116.159013 \r\nL 177.005462 113.559012 \r\nL 179.918656 111.276609 \r\nL 182.83185 109.335804 \r\nL 185.745043 107.757291 \r\nL 188.658237 106.558092 \r\nL 191.571431 105.751254 \r\nL 194.484625 105.345607 \r\nL 197.397819 105.345607 \r\nL 200.311013 105.751254 \r\nL 203.224207 106.558092 \r\nL 206.1374 107.757291 \r\nL 209.050594 109.335804 \r\nL 211.963788 111.276609 \r\nL 214.876982 113.559012 \r\nL 217.790176 116.159013 \r\nL 220.70337 119.049726 \r\nL 223.616564 122.201844 \r\nL 226.529757 125.584128 \r\nL 229.442951 129.163924 \r\nL 232.356145 132.907681 \r\nL 235.269339 136.781468 \r\nL 238.182533 140.75148 \r\nL 241.095727 144.784511 \r\nL 244.008921 148.848404 \r\nL 246.922115 152.912447 \r\nL 249.835308 156.947734 \r\nL 252.748502 160.92746 \r\nL 255.661696 164.827173 \r\nL 258.57489 168.624957 \r\nL 261.488084 172.301565 \r\nL 264.401278 175.840489 \r\nL 267.314472 179.227986 \r\nL 270.227665 182.45304 \r\nL 273.140859 185.507294 \r\nL 276.054053 188.384928 \r\nL 278.967247 191.082513 \r\nL 281.880441 193.598832 \r\nL 284.793635 195.934681 \r\nL 287.706829 198.092656 \r\nL 290.620022 200.076927 \r\nL 293.533216 201.893015 \r\nL 296.44641 203.54756 \r\nL 299.359604 205.048109 \r\nL 302.272798 206.4029 \r\nL 305.185992 207.620667 \r\nL 308.099186 208.71046 \r\nL 311.01238 209.681481 \r\nL 313.925573 210.542936 \r\nL 316.838767 211.303912 \r\nL 319.751961 211.973265 \r\nL 322.665155 212.559537 \r\nL 325.578349 213.07088 \r\nL 328.491543 213.515008 \r\nL 331.404737 213.899152 \r\nL 334.31793 214.230039 \r\nL 337.231124 214.513879 \r\nL 340.144318 214.756364 \r\n\" style=\"fill:none;stroke:#ff0000;stroke-linecap:square;stroke-width:1.5;\"/>\r\n   </g>\r\n   <g id=\"line2d_12\">\r\n    <path clip-path=\"url(#p99c603255b)\" d=\"M 35.780682 213.775411 \r\nL 37.40116 213.339487 \r\nL 39.021638 212.829217 \r\nL 40.642117 212.23437 \r\nL 42.262595 211.543781 \r\nL 43.883073 210.745356 \r\nL 45.503551 209.826094 \r\nL 47.12403 208.772131 \r\nL 48.744508 207.568811 \r\nL 50.364986 206.200777 \r\nL 51.985464 204.652107 \r\nL 53.605943 202.906466 \r\nL 55.226421 200.947304 \r\nL 56.846899 198.758079 \r\nL 58.467377 196.322522 \r\nL 60.087856 193.62493 \r\nL 61.708334 190.650492 \r\nL 63.328812 187.385644 \r\nL 64.94929 183.818446 \r\nL 66.569769 179.938974 \r\nL 68.190247 175.739732 \r\nL 69.810725 171.216052 \r\nL 71.431204 166.366504 \r\nL 73.051682 161.193274 \r\nL 74.67216 155.702529 \r\nL 76.292638 149.904729 \r\nL 77.913117 143.814901 \r\nL 79.533595 137.452845 \r\nL 81.154073 130.843272 \r\nL 82.774551 124.015855 \r\nL 84.39503 117.005196 \r\nL 86.015508 109.850694 \r\nL 87.635986 102.596309 \r\nL 89.256464 95.290228 \r\nL 90.876943 87.984417 \r\nL 92.497421 80.734087 \r\nL 94.117899 73.59705 \r\nL 95.738377 66.632999 \r\nL 97.358856 59.902709 \r\nL 98.979334 53.467177 \r\nL 100.599812 47.386718 \r\nL 102.22029 41.720039 \r\nL 103.840769 36.523297 \r\nL 105.461247 31.84918 \r\nL 107.081725 27.746019 \r\nL 108.702203 24.256962 \r\nL 110.322682 21.41921 \r\nL 111.94316 19.263367 \r\nL 113.563638 17.812884 \r\nL 115.184117 17.083636 \r\nL 116.804595 17.083636 \r\nL 118.425073 17.812884 \r\nL 120.045551 19.263367 \r\nL 121.66603 21.41921 \r\nL 123.286508 24.256962 \r\nL 124.906986 27.746019 \r\nL 126.527464 31.84918 \r\nL 128.147943 36.523297 \r\nL 129.768421 41.720039 \r\nL 131.388899 47.386718 \r\nL 133.009377 53.467177 \r\nL 134.629856 59.902709 \r\nL 136.250334 66.632999 \r\nL 137.870812 73.59705 \r\nL 139.49129 80.734087 \r\nL 141.111769 87.984417 \r\nL 142.732247 95.290228 \r\nL 144.352725 102.596309 \r\nL 145.973203 109.850694 \r\nL 147.593682 117.005196 \r\nL 149.21416 124.015855 \r\nL 150.834638 130.843272 \r\nL 152.455117 137.452845 \r\nL 154.075595 143.814901 \r\nL 155.696073 149.904729 \r\nL 157.316551 155.702529 \r\nL 158.93703 161.193274 \r\nL 160.557508 166.366504 \r\nL 162.177986 171.216052 \r\nL 163.798464 175.739732 \r\nL 165.418943 179.938974 \r\nL 167.039421 183.818446 \r\nL 168.659899 187.385644 \r\nL 170.280377 190.650492 \r\nL 171.900856 193.62493 \r\nL 173.521334 196.322522 \r\nL 175.141812 198.758079 \r\nL 176.76229 200.947304 \r\nL 178.382769 202.906466 \r\nL 180.003247 204.652107 \r\nL 181.623725 206.200777 \r\nL 183.244203 207.568811 \r\nL 184.864682 208.772131 \r\nL 186.48516 209.826094 \r\nL 188.105638 210.745356 \r\nL 189.726116 211.543781 \r\nL 191.346595 212.23437 \r\nL 192.967073 212.829217 \r\nL 194.587551 213.339487 \r\nL 196.20803 213.775411 \r\n\" style=\"fill:none;stroke:#000000;stroke-linecap:square;stroke-width:1.5;\"/>\r\n   </g>\r\n   <g id=\"patch_3\">\r\n    <path d=\"M 20.5625 224.64 \r\nL 20.5625 7.2 \r\n\" style=\"fill:none;stroke:#000000;stroke-linecap:square;stroke-linejoin:miter;stroke-width:0.8;\"/>\r\n   </g>\r\n   <g id=\"patch_4\">\r\n    <path d=\"M 355.3625 224.64 \r\nL 355.3625 7.2 \r\n\" style=\"fill:none;stroke:#000000;stroke-linecap:square;stroke-linejoin:miter;stroke-width:0.8;\"/>\r\n   </g>\r\n   <g id=\"patch_5\">\r\n    <path d=\"M 20.5625 224.64 \r\nL 355.3625 224.64 \r\n\" style=\"fill:none;stroke:#000000;stroke-linecap:square;stroke-linejoin:miter;stroke-width:0.8;\"/>\r\n   </g>\r\n   <g id=\"patch_6\">\r\n    <path d=\"M 20.5625 7.2 \r\nL 355.3625 7.2 \r\n\" style=\"fill:none;stroke:#000000;stroke-linecap:square;stroke-linejoin:miter;stroke-width:0.8;\"/>\r\n   </g>\r\n  </g>\r\n </g>\r\n <defs>\r\n  <clipPath id=\"p99c603255b\">\r\n   <rect height=\"217.44\" width=\"334.8\" x=\"20.5625\" y=\"7.2\"/>\r\n  </clipPath>\r\n </defs>\r\n</svg>\r\n",
      "image/png": "[encoded data removed]"
     },
     "metadata": {
      "needs_background": "light"
     }
    }
   ],
   "source": [
    "# Libraries\n",
    "import matplotlib.pyplot as plt\n",
    "import numpy as np\n",
    "import scipy.stats as stats\n",
    "import math\n",
    "\n",
    "# Class-conditional probability\n",
    "# load the dataset\n",
    "X = breast_cancer.data\n",
    "y = breast_cancer.target[:, np.newaxis]\n",
    "\n",
    "#print(X[:5, 0])\n",
    "#print((y[:5].T)[0])\n",
    "\n",
    "class0index, zerovalues = np.where(y==0)\n",
    "class0 = np.zeros( ( len(class0index), np.shape(X)[1] ) )\n",
    "w = 0\n",
    "for i in class0index:\n",
    "    class0[w] = X[i,:]\n",
    "    w = w+1\n",
    "\n",
    "class1index, onevalues = np.where(y==1)\n",
    "class1 = np.zeros( ( len(class1index), np.shape(X)[1] ) )\n",
    "w = 0\n",
    "for i in class1index:\n",
    "    class1[w] = X[i,:]\n",
    "    w = w+1\n",
    "\n",
    "#print(class0)\n",
    "\n",
    "#calculate stdev and mu\n",
    "mean_0 = np.mean(class0, axis=0)\n",
    "mean_1 = np.mean(class1, axis=0)\n",
    "stdev_0 = np.std(class0, axis=0)\n",
    "stdev_1 = np.std(class1, axis=0)\n",
    "\n",
    "\n",
    "# Plot for feature 1\n",
    "mu0 = mean_0[0]\n",
    "mu1 = mean_1[0]\n",
    "stdev0 = stdev_0[0]\n",
    "stdev1 = stdev_1[0]\n",
    "\n",
    "x_as = np.linspace(mu0 - 3*stdev0, mu0 + 3*stdev0, 100)\n",
    "plt.plot(x_as, stats.norm.pdf(x_as, mu0, stdev0), 'r')\n",
    "x_as2 = np.linspace(mu1 - 3*stdev1, mu1 + 3*stdev1, 100)\n",
    "plt.plot(x_as2, stats.norm.pdf(x_as2, mu1, stdev1), 'k')\n",
    "\n",
    "plt.show()\n"
   ]
  },
  {
   "cell_type": "code",
   "execution_count": null,
   "metadata": {},
   "outputs": [],
   "source": []
  }
 ],
 "metadata": {
  "kernelspec": {
   "display_name": "Python 3",
   "language": "python",
   "name": "python3"
  },
  "language_info": {
   "codemirror_mode": {
    "name": "ipython",
    "version": 3
   },
   "file_extension": ".py",
   "mimetype": "text/x-python",
   "name": "python",
   "nbconvert_exporter": "python",
   "pygments_lexer": "ipython3",
   "version": "3.7.6-final"
  }
 },
 "nbformat": 4,
 "nbformat_minor": 2
}