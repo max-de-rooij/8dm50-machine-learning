{
 "cells": [
  {
   "cell_type": "markdown",
   "metadata": {},
   "source": [
    "# Preliminaries\n",
    "\n",
    "## Dataset\n",
    "\n",
    "In this set of exercises we will use the same dataset as from [week 3](week_3.ipynb). \n",
    "\n",
    "\n",
    "As before, we provide the data already curated in the following two files:\n",
    "\n",
    "`RNA_expression_curated.csv`: [148 cell lines , 238 genes]\n",
    "\n",
    "`drug_response_curated.csv`: [148 cell lines , YM155 drug]\n",
    "\n",
    "The curated data can be read as `pandas` `DataFrame` in the following way:"
   ]
  },
  {
   "cell_type": "code",
   "execution_count": 1,
   "metadata": {},
   "outputs": [],
   "source": [
    "import pandas as pd\n",
    "\n",
    "gene_expression = pd.read_csv(\"./data/RNA_expression_curated.csv\", sep=',', header=0, index_col=0)\n",
    "drug_response = pd.read_csv(\"./data/drug_response_curated.csv\", sep=',', header=0, index_col=0)"
   ]
  },
  {
   "cell_type": "markdown",
   "metadata": {},
   "source": [
    "The goal of the exercises is to train support vector machine (SVM) and random forests classifiers on this dataset and explore and learn about their hyperparameters. "
   ]
  },
  {
   "cell_type": "markdown",
   "metadata": {},
   "source": [
    "## Tools\n",
    "\n",
    "The `scikit-learn` library provides the required tools for support vector machines, as well as for random forest algorithms."
   ]
  },
  {
   "cell_type": "code",
   "execution_count": 2,
   "metadata": {},
   "outputs": [],
   "source": [
    "from sklearn import svm \n",
    "from sklearn.ensemble import RandomForestClassifier\n",
    "from sklearn.model_selection import GridSearchCV\n",
    "from sklearn.model_selection import train_test_split\n",
    "from sklearn.datasets.samples_generator import make_blobs, make_circles\n",
    "from sklearn.metrics import classification_report"
   ]
  },
  {
   "cell_type": "markdown",
   "metadata": {},
   "source": [
    "Before proceeding, look up the documentation of the imported functions and read about their basic functionality. Below, we list some important parameters of SVMs and random forests that can be tuned during training."
   ]
  },
  {
   "cell_type": "markdown",
   "metadata": {},
   "source": [
    "#### Support Vector Machines (SVM)\n",
    "\n",
    "`C`: error term.\n",
    "\n",
    "`kernel`: similarity function ('linear', 'poly', 'sigmoid' or 'rbf')\n",
    "\n",
    "`gamma`: kernel coef. for 'rbf', 'poly' and 'sigmoid' kernels. It can be thought of as the ‘spread’ of the kernel and therefore the decision region.\n",
    "\n",
    "`degree`: degree for the 'poly' kernel.\n",
    "\n",
    "`coef0`: independt term in the 'poly' and 'sigmoid' kernels\n",
    "\n",
    "\n",
    "#### Random Forests\n",
    "\n",
    "`n_estimators`: number of trees in our random forest.\n",
    "\n",
    "`max_depth`: maximum number of levels in each decision tree\n",
    "\n",
    "`max_features`: maximum number of features to consider per split in an individual tree.\n",
    "\n",
    "`min_sample_leaf`: minimum number of data points per leaf node\n",
    "\n",
    "`min_samples_split`: minimum number of data points placed in a node before the node is split\n",
    "\n",
    "`oob_score`: the out-of-bag (OOB) error is the average error for each observation calculated using predictions from the trees that do not contain that observation in their respective bootstrap sample. Set this parameter to true.\n",
    "\n",
    "`bootstrap`: method for sampling data points (with or without replacement). Set this parameter to true.\n",
    "\n",
    "`criterion`: function used to measure the quality of the split (e.g. 'entropy' or 'gini')\n",
    "\n",
    "# Exercises\n",
    "\n",
    "## Support vector machines\n",
    "\n",
    "The  `make_blobs` and `make_circles` functions can be used to generate linearly and not linearly separable toy datasets. "
   ]
  },
  {
   "cell_type": "code",
   "execution_count": 3,
   "metadata": {},
   "outputs": [],
   "source": [
    "# data generation: linearly separable\n",
    "X, Y = make_blobs(n_samples=200, centers=2, n_features=2, random_state=1234)\n",
    "X = pd.DataFrame(X, columns=['x1', 'x2'])\n",
    "\n",
    "# splitting data into training and test set\n",
    "X_train, X_test, Y_train, Y_test = train_test_split(X, Y, test_size=0.33, random_state=333)"
   ]
  },
  {
   "cell_type": "markdown",
   "metadata": {},
   "source": [
    "The following code illustrates how to train a linear SVM classifier and plot the data points, the separating hyperplane, the support vectors and the margins that pass through them (considering the training data)"
   ]
  },
  {
   "cell_type": "code",
   "execution_count": 4,
   "metadata": {},
   "outputs": [
    {
     "output_type": "display_data",
     "data": {
      "text/plain": "<Figure size 640x480 with 1 Axes>"
     },
     "metadata": {}
    }
   ],
   "source": [
    "import numpy as np\n",
    "import matplotlib.pyplot as plt\n",
    "\n",
    "# build the model\n",
    "model = svm.SVC(kernel='linear', random_state=33)\n",
    "model.fit(X_train, Y_train)\n",
    "\n",
    "# create plot\n",
    "fig, ax = plt.subplots()\n",
    "\n",
    "# get colors from qualitative colormap 'Paired'\n",
    "cmap = plt.cm.get_cmap('Paired')\n",
    "\n",
    "# plot data points\n",
    "ax.scatter(X_train.iloc[Y_train == 1, 0], X_train.iloc[Y_train == 1, 1],\n",
    "           c=[cmap(11)], label='1')\n",
    "ax.scatter(X_train.iloc[Y_train == 0, 0], X_train.iloc[Y_train == 0, 1],\n",
    "           c=[cmap(0)], label='0')\n",
    "ax.legend(loc='best')\n",
    "\n",
    "# plot the decision function\n",
    "# create grid to evaluate model\n",
    "x1_min, x1_max = X_train.iloc[:, 0].min() - 1, X_train.iloc[:, 0].max() + 1\n",
    "x2_min, x2_max = X_train.iloc[:, 1].min() - 1, X_train.iloc[:, 1].max() + 1\n",
    "\n",
    "XX, YY = np.meshgrid(np.arange(x1_min, x1_max, .2),\n",
    "                     np.arange(x2_min, x2_max, .2))\n",
    "\n",
    "xy = np.vstack([XX.ravel(), YY.ravel()]).T\n",
    "Z = model.decision_function(xy).reshape(XX.shape)\n",
    "\n",
    "# plot decision boundary and margins\n",
    "ax.contour(XX, YY, Z, colors='k', levels=[-1, 0, 1], alpha=0.5,\n",
    "           linestyles=['--', '-', '--'])\n",
    "\n",
    "# Establish the class for each point in the contour\n",
    "Z = model.predict(xy).reshape(XX.shape)\n",
    "\n",
    "# Visualization of the contour\n",
    "ax.contourf(XX, YY, Z, cmap='bwr', alpha=0.3)\n",
    "\n",
    "# plot support vectors, whose are responsible for building the margins\n",
    "ax.scatter(model.support_vectors_[:, 0], model.support_vectors_[:, 1], s=100,\n",
    "           linewidth=1, facecolors='none', edgecolors='k', marker='s')\n",
    "\n",
    "ax.axis([x1_min, x1_max, x2_min, x2_max])\n",
    "plt.axis('tight')\n",
    "plt.title('Linear kernel SVM')\n",
    "plt.show()"
   ]
  },
  {
   "cell_type": "markdown",
   "metadata": {},
   "source": [
    "Train a radial basis function (RBF) SVM classifier with `gamma=0.5` and plot the results in the same way."
   ]
  },
  {
   "cell_type": "code",
   "execution_count": 5,
   "metadata": {},
   "outputs": [],
   "source": [
    "# data generation: not linearly separable\n",
    "X, Y = make_circles(n_samples=200, noise=0.05, random_state=1234)\n",
    "X = pd.DataFrame(X, columns=['x1', 'x2'])\n",
    "\n",
    "# splitting data into training and test set\n",
    "X_train, X_test, Y_train, Y_test = train_test_split(X, Y, test_size=0.33, random_state=333)"
   ]
  },
  {
   "cell_type": "code",
   "execution_count": 6,
   "metadata": {},
   "outputs": [
    {
     "output_type": "display_data",
     "data": {
      "text/plain": "<Figure size 432x288 with 1 Axes>",
      "image/png": "[encoded data removed]"
     },
     "metadata": {
      "needs_background": "light"
     }
    }
   ],
   "source": [
    "# build the model\n",
    "model = svm.SVC(kernel='rbf', random_state=33,gamma=0.5)\n",
    "model.fit(X_train, Y_train)\n",
    "\n",
    "# create plot\n",
    "fig, ax = plt.subplots()\n",
    "\n",
    "# get colors from qualitative colormap 'Paired'\n",
    "cmap = plt.cm.get_cmap('Paired')\n",
    "\n",
    "# plot data points\n",
    "ax.scatter(X_train.iloc[Y_train == 1, 0], X_train.iloc[Y_train == 1, 1],\n",
    "           c=[cmap(11)], label='1')\n",
    "ax.scatter(X_train.iloc[Y_train == 0, 0], X_train.iloc[Y_train == 0, 1],\n",
    "           c=[cmap(0)], label='0')\n",
    "ax.legend(loc='best')\n",
    "\n",
    "# plot the decision function\n",
    "# create grid to evaluate model\n",
    "x1_min, x1_max = X_train.iloc[:, 0].min() - 1, X_train.iloc[:, 0].max() + 1\n",
    "x2_min, x2_max = X_train.iloc[:, 1].min() - 1, X_train.iloc[:, 1].max() + 1\n",
    "\n",
    "XX, YY = np.meshgrid(np.arange(x1_min, x1_max, .2),\n",
    "                     np.arange(x2_min, x2_max, .2))\n",
    "\n",
    "xy = np.vstack([XX.ravel(), YY.ravel()]).T\n",
    "Z = model.decision_function(xy).reshape(XX.shape)\n",
    "\n",
    "# plot decision boundary and margins\n",
    "ax.contour(XX, YY, Z, colors='k', levels=[-1, 0, 1], alpha=0.5,\n",
    "           linestyles=['--', '-', '--'])\n",
    "\n",
    "# Establish the class for each point in the contour\n",
    "Z = model.predict(xy).reshape(XX.shape)\n",
    "\n",
    "# Visualization of the contour\n",
    "ax.contourf(XX, YY, Z, cmap='bwr', alpha=0.3)\n",
    "\n",
    "# plot support vectors, whose are responsible for building the margins\n",
    "ax.scatter(model.support_vectors_[:, 0], model.support_vectors_[:, 1], s=100,\n",
    "           linewidth=1, facecolors='none', edgecolors='k', marker='s')\n",
    "\n",
    "ax.axis([x1_min, x1_max, x2_min, x2_max])\n",
    "plt.axis('tight')\n",
    "plt.title('RBF kernel SVM')\n",
    "plt.show()"
   ]
  },
  {
   "cell_type": "markdown",
   "metadata": {},
   "source": [
    "<p><font color='#770a0a'>When should a RBF kernel be used over a linear kernel? Motivate your answer.</font></p>\n",
    "\n",
    "**Answer:** An RBF kernel should be used over a linear kernel when the data cannot be linear separable. When one class is closed-in in the linear feature space by the other class, it is useful to use the RBF kernel, as this is able to form a closed boundary around one feature, whereas the linear kernel will not be able to separate those classes. Even though, you could modify the features so it can be linearly separated, but this will lower the interpretability of the model.\n",
    "\n",
    "<p><font color='#770a0a'>Do we need to normalize the data before using a kernel function? Motivate your answer.\n",
    "</font></p>\n",
    "\n",
    "**Answer:** Yes, we need to normalize, as the kernels are some measure of similarity between two features. However, when we are interested in similarity only, both vectors in the inner product need to be of the same magnitude (otherwise, one feature may count heavier than the other). Therefore, it is required to normalize data before using a kernel function."
   ]
  },
  {
   "cell_type": "markdown",
   "metadata": {},
   "source": [
    "## Predicting drug response on cell lines from gene expression data with SVMs\n",
    "\n",
    "Explore the hyper-parameter space of an SVM classifier with cross-validation for the Genomics of Drug Sensitivity in Cancer (GDSC) dataset. The`GridSearchCV` function can be used to specify a grid of parameter values with the `param_grid` parameter.\n",
    "\n",
    "Calculate the precision of your predictions, and compare your calculations with the results of `classification_report`, which displays many classification metrics."
   ]
  },
  {
   "cell_type": "code",
   "execution_count": 9,
   "metadata": {},
   "outputs": [
    {
     "output_type": "stream",
     "name": "stdout",
     "text": [
      "Fitting 3 folds for each of 8000 candidates, totalling 24000 fits\n",
      "[Parallel(n_jobs=-1)]: Using backend LokyBackend with 8 concurrent workers.\n",
      "[Parallel(n_jobs=-1)]: Done  25 tasks      | elapsed:    5.4s\n",
      "[Parallel(n_jobs=-1)]: Done 406 tasks      | elapsed:    7.3s\n",
      "[Parallel(n_jobs=-1)]: Done 1866 tasks      | elapsed:   12.7s\n",
      "[Parallel(n_jobs=-1)]: Done 4130 tasks      | elapsed:   21.0s\n",
      "[Parallel(n_jobs=-1)]: Done 7050 tasks      | elapsed:   30.9s\n",
      "[Parallel(n_jobs=-1)]: Done 10610 tasks      | elapsed:   44.4s\n",
      "[Parallel(n_jobs=-1)]: Done 14826 tasks      | elapsed:  1.1min\n",
      "[Parallel(n_jobs=-1)]: Done 19682 tasks      | elapsed:  1.6min\n",
      "[Parallel(n_jobs=-1)]: Done 24000 out of 24000 | elapsed:  2.0min finished\n",
      "{'SVM__C': 13.645569620253164, 'SVM__gamma': 0.0009540954763499944, 'SVM__kernel': 'rbf'}\n",
      "Pipeline(memory=None,\n",
      "         steps=[('std_scaler',\n",
      "                 StandardScaler(copy=True, with_mean=True, with_std=True)),\n",
      "                ('SVM',\n",
      "                 SVC(C=13.645569620253164, cache_size=200, class_weight=None,\n",
      "                     coef0=0.0, decision_function_shape='ovr', degree=3,\n",
      "                     gamma=0.0009540954763499944, kernel='rbf', max_iter=-1,\n",
      "                     probability=False, random_state=33, shrinking=True,\n",
      "                     tol=0.001, verbose=False))],\n",
      "         verbose=False)\n",
      "Precision: 0.25\n",
      "              precision    recall  f1-score   support\n",
      "\n",
      "           0       0.88      0.88      0.88        26\n",
      "           1       0.25      0.25      0.25         4\n",
      "\n",
      "    accuracy                           0.80        30\n",
      "   macro avg       0.57      0.57      0.57        30\n",
      "weighted avg       0.80      0.80      0.80        30\n",
      "\n",
      "C:\\Users\\20169366\\AppData\\Roaming\\Python\\Python37\\site-packages\\sklearn\\model_selection\\_search.py:814: DeprecationWarning: The default of the `iid` parameter will change from True to False in version 0.22 and will be removed in 0.24. This will change numeric results when test-set sizes are unequal.\n",
      "  DeprecationWarning)\n"
     ]
    }
   ],
   "source": [
    "from sklearn.pipeline import Pipeline\n",
    "from sklearn.preprocessing import StandardScaler\n",
    "from sklearn import preprocessing\n",
    "from sklearn import metrics\n",
    "\n",
    "X = gene_expression\n",
    "y = drug_response\n",
    "\n",
    "X_train, X_test, y_train, y_test = train_test_split(X, y, test_size=0.2, random_state = 40)\n",
    "\n",
    "ytrain_bin = (y_train > 0).astype(np.int)\n",
    "ytest_bin = (y_test > 0).astype(np.int)\n",
    "\n",
    "def SVMpipeline(kernel='rbf',C=0, random_state=33, gamma=0.5):\n",
    "    return Pipeline ([\n",
    "    (\"std_scaler\", StandardScaler()), #scaling the samples with a standard scaler\n",
    "    ('SVM', svm.SVC(kernel, C, random_state=random_state,gamma=gamma))\n",
    "    ])\n",
    "\n",
    "# creating an parameter grid for the kernel coef. (gamma), error term (C) and the type of kernel \n",
    "param_grid = {'SVM__gamma': np.logspace(-4,0,num=50),\n",
    "              'SVM__C': np.linspace(1,1000, num=80),\n",
    "              'SVM__kernel': ['rbf','linear']}\n",
    "\n",
    "# Performing the gridsearch\n",
    "grid_search = GridSearchCV(SVMpipeline(), param_grid, cv=None, verbose=2, n_jobs=-1)\n",
    "\n",
    "#Fitting the gridsearch model to the traindata\n",
    "grid_search.fit(X_train,ytrain_bin)\n",
    "\n",
    "#Extracting the best parameter after tuning\n",
    "best_param = grid_search.best_params_ \n",
    "#Printing the best parameter\n",
    "print(best_param)\n",
    "#Printing our model after hyper-parameter tuning\n",
    "print(grid_search.best_estimator_)\n",
    "\n",
    "# Predicting the gridfunction and plotting the classification report\n",
    "grid_pred = grid_search.predict(X_test)\n",
    "print(\"Precision:\", metrics.precision_score(ytest_bin, grid_pred, average='binary'))\n",
    "print(classification_report(ytest_bin, grid_pred))"
   ]
  },
  {
   "cell_type": "code",
   "execution_count": 23,
   "metadata": {},
   "outputs": [
    {
     "output_type": "stream",
     "name": "stdout",
     "text": [
      "0.25\n"
     ]
    }
   ],
   "source": [
    "#print(\"Precision:\", metrics.precision_score(ytest_bin, grid_pred, average='weighted'))\n",
    "grid_pred = grid_pred.reshape(-1,1)\n",
    "TP = np.sum(np.diag(ytest_bin[grid_pred==1].to_numpy() == grid_pred[grid_pred==1]))\n",
    "TPFP = np.sum(np.diag(grid_pred[grid_pred==1]))\n",
    "precision = TP/TPFP\n",
    "print(\"Manually computed precision:\",precision)"
   ]
  },
  {
   "source": [
    "Comparison: The classification report does not explicitly define 'positive' and 'negative' class. As we define the positive class to be 1, the precision will be 0.25. The precision given by classification_report on the negative class will then be the negative predictive value. Also, the classification_report gives the recall and the f1 score, and shows the amount of predictions used to calculate these metrics. There is no difference between the calculated precision and the precision on class 1 of the classification_report."
   ],
   "cell_type": "markdown",
   "metadata": {}
  },
  {
   "cell_type": "markdown",
   "metadata": {},
   "source": [
    "## Random forests\n",
    "\n",
    "Follow the same steps as for SVM. Compare the two algorithms and report which one has better performance.\n",
    "\n",
    "The random forests classifiers allows to perform feature selection. Evaluate the importance of features extracting the top 50 informative features. A bar plot (`plt.bar()`) can be a useful tool to visualize this. "
   ]
  },
  {
   "cell_type": "code",
   "execution_count": 25,
   "metadata": {},
   "outputs": [
    {
     "output_type": "stream",
     "name": "stdout",
     "text": [
      "Fitting 5 folds for each of 2500 candidates, totalling 12500 fits\n",
      "[Parallel(n_jobs=-1)]: Using backend LokyBackend with 8 concurrent workers.\n",
      "[Parallel(n_jobs=-1)]: Done  25 tasks      | elapsed:    6.4s\n",
      "[Parallel(n_jobs=-1)]: Done 146 tasks      | elapsed:   13.3s\n",
      "[Parallel(n_jobs=-1)]: Done 349 tasks      | elapsed:   26.8s\n",
      "[Parallel(n_jobs=-1)]: Done 632 tasks      | elapsed:   43.2s\n",
      "[Parallel(n_jobs=-1)]: Done 997 tasks      | elapsed:  1.1min\n",
      "[Parallel(n_jobs=-1)]: Done 1442 tasks      | elapsed:  1.5min\n",
      "[Parallel(n_jobs=-1)]: Done 1969 tasks      | elapsed:  2.1min\n",
      "[Parallel(n_jobs=-1)]: Done 2576 tasks      | elapsed:  3.1min\n",
      "[Parallel(n_jobs=-1)]: Done 3265 tasks      | elapsed:  4.4min\n",
      "[Parallel(n_jobs=-1)]: Done 4034 tasks      | elapsed:  5.9min\n",
      "[Parallel(n_jobs=-1)]: Done 4885 tasks      | elapsed:  7.4min\n",
      "[Parallel(n_jobs=-1)]: Done 5816 tasks      | elapsed:  9.4min\n",
      "[Parallel(n_jobs=-1)]: Done 6829 tasks      | elapsed: 11.2min\n",
      "[Parallel(n_jobs=-1)]: Done 7922 tasks      | elapsed: 13.0min\n",
      "[Parallel(n_jobs=-1)]: Done 9097 tasks      | elapsed: 15.3min\n",
      "[Parallel(n_jobs=-1)]: Done 10352 tasks      | elapsed: 17.9min\n",
      "[Parallel(n_jobs=-1)]: Done 11689 tasks      | elapsed: 20.0min\n",
      "[Parallel(n_jobs=-1)]: Done 12500 out of 12500 | elapsed: 21.6min finished\n",
      "C:\\Users\\20169366\\AppData\\Roaming\\Python\\Python37\\site-packages\\sklearn\\model_selection\\_search.py:814: DeprecationWarning: The default of the `iid` parameter will change from True to False in version 0.22 and will be removed in 0.24. This will change numeric results when test-set sizes are unequal.\n",
      "  DeprecationWarning)\n"
     ]
    },
    {
     "output_type": "execute_result",
     "data": {
      "text/plain": [
       "GridSearchCV(cv=5, error_score='raise-deprecating',\n",
       "             estimator=Pipeline(memory=None,\n",
       "                                steps=[('normalization',\n",
       "                                        StandardScaler(copy=True,\n",
       "                                                       with_mean=True,\n",
       "                                                       with_std=True)),\n",
       "                                       ('randomforest',\n",
       "                                        RandomForestClassifier(bootstrap=True,\n",
       "                                                               class_weight=None,\n",
       "                                                               criterion='gini',\n",
       "                                                               max_depth=None,\n",
       "                                                               max_features='auto',\n",
       "                                                               max_leaf_nodes=None,\n",
       "                                                               min_impurity_decrease=0.0,\n",
       "                                                               min_impurity_split=...\n",
       "       36, 37, 38, 38, 39, 40, 41, 42, 43, 44, 45, 46, 47, 48, 49, 50],\n",
       "      dtype=int32),\n",
       "                         'randomforest__n_estimators': array([ 10,  13,  17,  21,  25,  29,  33,  37,  41,  44,  48,  52,  56,\n",
       "        60,  64,  68,  72,  75,  79,  83,  87,  91,  95,  99, 103, 106,\n",
       "       110, 114, 118, 122, 126, 130, 134, 137, 141, 145, 149, 153, 157,\n",
       "       161, 165, 168, 172, 176, 180, 184, 188, 192, 196, 200], dtype=int32)},\n",
       "             pre_dispatch='2*n_jobs', refit=True, return_train_score=False,\n",
       "             scoring=None, verbose=2)"
      ]
     },
     "metadata": {},
     "execution_count": 25
    }
   ],
   "source": [
    "## Warning, longer runtime (approx. 11 min)\n",
    "def rf_estimator(n_estimators=100, max_depth=None):\n",
    "    return Pipeline([\n",
    "        ('normalization', StandardScaler()),\n",
    "        ('randomforest', RandomForestClassifier(n_estimators=n_estimators, max_depth=max_depth))\n",
    "        ])\n",
    "\n",
    "n_estimators_range = np.linspace(10,200,num=50, dtype='i')\n",
    "max_depth_range = np.linspace(5, 50, num=50, dtype='i')\n",
    "param_grid = {'randomforest__n_estimators': n_estimators_range, 'randomforest__max_depth': max_depth_range}\n",
    "\n",
    "model = GridSearchCV(rf_estimator(), param_grid, cv=5, verbose=2, n_jobs=-1)\n",
    "model.fit(X_train, ytrain_bin)"
   ]
  },
  {
   "cell_type": "code",
   "execution_count": 27,
   "metadata": {},
   "outputs": [
    {
     "output_type": "stream",
     "name": "stdout",
     "text": [
      "{'randomforest__max_depth': 6, 'randomforest__n_estimators': 25}\nPipeline(memory=None,\n         steps=[('normalization',\n                 StandardScaler(copy=True, with_mean=True, with_std=True)),\n                ('randomforest',\n                 RandomForestClassifier(bootstrap=True, class_weight=None,\n                                        criterion='gini', max_depth=6,\n                                        max_features='auto',\n                                        max_leaf_nodes=None,\n                                        min_impurity_decrease=0.0,\n                                        min_impurity_split=None,\n                                        min_samples_leaf=1, min_samples_split=2,\n                                        min_weight_fraction_leaf=0.0,\n                                        n_estimators=25, n_jobs=None,\n                                        oob_score=False, random_state=None,\n                                        verbose=0, warm_start=False))],\n         verbose=False)\n0.5\n              precision    recall  f1-score   support\n\n           0       0.92      0.92      0.92        26\n           1       0.50      0.50      0.50         4\n\n    accuracy                           0.87        30\n   macro avg       0.71      0.71      0.71        30\nweighted avg       0.87      0.87      0.87        30\n\n"
     ]
    }
   ],
   "source": [
    "print(model.best_params_)\n",
    "print(model.best_estimator_)\n",
    "prediction = model.predict(X_test)\n",
    "\n",
    "TP = np.sum(np.diag(ytest_bin[prediction==1].to_numpy() == prediction[prediction==1]))\n",
    "TPFP = np.sum(np.diag(prediction[prediction==1]))\n",
    "precision = TP/TPFP\n",
    "print(\"Manually computed precision:\",precision)\n",
    "print(classification_report(ytest_bin, prediction))"
   ]
  },
  {
   "source": [
    "Comparison precision: Both the manual calculation and the classification_report have the same precision of 0.5 for class 1. \n",
    "\n",
    "Comparison SVM and random forest model: The random forest model has a higher precision for class 1 with a value of 0.5 compared to 0.25 for SVM. However, this comes at the price of a higher computation time (20 minutes versus 2 minutes). Also the recall, accuracy and f1-score are higher for the random forest. This would indicate that random forest is the better performing model for this dataset. "
   ],
   "cell_type": "markdown",
   "metadata": {}
  },
  {
   "cell_type": "code",
   "execution_count": 29,
   "metadata": {},
   "outputs": [
    {
     "output_type": "display_data",
     "data": {
      "text/plain": "<Figure size 1800x576 with 1 Axes>",
      "image/png": "[encoded data removed]"
     },
     "metadata": {
      "needs_background": "light"
     }
    }
   ],
   "source": [
    "n_estimators = model.best_params_['randomforest__n_estimators']\n",
    "forest = model.best_estimator_.named_steps['randomforest']\n",
    "importances = forest.feature_importances_\n",
    "\n",
    "imp_idx = np.argsort(importances)[::-1]\n",
    "features = X_train.keys()[imp_idx][:50]\n",
    "heights = importances[imp_idx][:50]\n",
    "\n",
    "plt.figure(figsize=(25,8))\n",
    "plt.bar(np.arange(0,10*50,10),heights, width=5, tick_label=features)\n",
    "\n",
    "plt.xticks(rotation=35, ha='right')\n",
    "plt.title('50 most informative features')\n",
    "plt.ylabel('Feature Importance')\n",
    "plt.ylabel('Gene name')\n",
    "plt.show()"
   ]
  },
  {
   "source": [
    "The most important feature (ABCB1) has an importance of almost 0.07. After that, the importance of the features decreases exponentially and flattens to an importance of approximately 0.01. "
   ],
   "cell_type": "markdown",
   "metadata": {}
  },
  {
   "cell_type": "markdown",
   "metadata": {},
   "source": [
    "## Biomedical applications\n",
    "\n",
    "Driven by technological advances, there has recently been a dramatic increase in availability of biomedical data. Machine learning approaches are well suited to take advantage of this data and have been widely applied to many areas of biology. \n",
    "\n",
    "Example of these applications are genome annotation, biomarker identification, systems biology, genome data analysis, protein  function  prediction, protein  structure prediction, protein localization prediction, identification of protein interactions and drug discovery.\n",
    "\n",
    "SVM and RF methods are among the most popular machine learning methods applied in bioinformatics or computational biology.\n",
    "\n",
    "Perform a literature search and find a biomedical study in which SVM or RF is applied to obtain certain insights. <p><font color='#770a0a'>Explain the motivation behind using that specific algorithm in the study.\n",
    "</font></p>\n",
    "\n",
    "**Answer:** Díaz-Uriarte, R. & Alvarez de Andrés, S. (2006). Gene selection and classification of microarray data using random forest\n",
    "\n",
    "In this article they used random forest to investigate the potential of Random Forest (RF) in gene selection. A disadvantage of many gene selection approaches is the use of arbitrary thresholds to select the number of genes which is limited to two-class problems. \n",
    "\n",
    "They considered RF to be a good option, because it is well suited for microarray data, as is stated in the article: \"it shows excellent performance even when most predictive variables are noise, can be used when the number of variables is much larger than the number of observations and in problems involving more than two classes, and returns measures of variable importance\"."
   ]
  },
  {
   "cell_type": "code",
   "execution_count": null,
   "metadata": {},
   "outputs": [],
   "source": []
  }
 ],
 "metadata": {
  "kernelspec": {
   "display_name": "Python 3",
   "language": "python",
   "name": "python3"
  },
  "language_info": {
   "codemirror_mode": {
    "name": "ipython",
    "version": 3
   },
   "file_extension": ".py",
   "mimetype": "text/x-python",
   "name": "python",
   "nbconvert_exporter": "python",
   "pygments_lexer": "ipython3",
   "version": "3.7.4-final"
  }
 },
 "nbformat": 4,
 "nbformat_minor": 2
}