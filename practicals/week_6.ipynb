{
 "cells": [
  {
   "cell_type": "markdown",
   "metadata": {},
   "source": [
    "# Preliminaries\n",
    "\n",
    "## Dataset\n",
    "\n",
    "In this set of exercises we will use the same dataset as from [week 3](week_3.ipynb). \n",
    "\n",
    "\n",
    "As before, we provide the data already curated in the following two files:\n",
    "\n",
    "`RNA_expression_curated.csv`: [148 cell lines , 238 genes]\n",
    "\n",
    "`drug_response_curated.csv`: [148 cell lines , YM155 drug]\n",
    "\n",
    "The curated data can be read as `pandas` `DataFrame` in the following way:"
   ]
  },
  {
   "cell_type": "code",
   "execution_count": 1,
   "metadata": {},
   "outputs": [],
   "source": [
    "import pandas as pd\n",
    "import warnings; warnings.simplefilter('ignore')\n",
    "gene_expression = pd.read_csv(\"./data/RNA_expression_curated.csv\", sep=',', header=0, index_col=0)\n",
    "drug_response = pd.read_csv(\"./data/drug_response_curated.csv\", sep=',', header=0, index_col=0)"
   ]
  },
  {
   "cell_type": "markdown",
   "metadata": {},
   "source": [
    "The goal of the exercises is to train support vector machine (SVM) and random forests classifiers on this dataset and explore and learn about their hyperparameters. "
   ]
  },
  {
   "cell_type": "markdown",
   "metadata": {},
   "source": [
    "## Tools\n",
    "\n",
    "The `scikit-learn` library provides the required tools for support vector machines, as well as for random forest algorithms."
   ]
  },
  {
   "cell_type": "code",
   "execution_count": 2,
   "metadata": {},
   "outputs": [],
   "source": [
    "from sklearn import svm \n",
    "from sklearn.ensemble import RandomForestClassifier\n",
    "from sklearn.model_selection import GridSearchCV\n",
    "from sklearn.model_selection import train_test_split\n",
    "from sklearn.datasets.samples_generator import make_blobs, make_circles\n",
    "from sklearn.metrics import classification_report"
   ]
  },
  {
   "cell_type": "markdown",
   "metadata": {},
   "source": [
    "Before proceeding, look up the documentation of the imported functions and read about their basic functionality. Below, we list some important parameters of SVMs and random forests that can be tuned during training."
   ]
  },
  {
   "cell_type": "markdown",
   "metadata": {},
   "source": [
    "#### Support Vector Machines (SVM)\n",
    "\n",
    "`C`: error term.\n",
    "\n",
    "`kernel`: similarity function ('linear', 'poly', 'sigmoid' or 'rbf')\n",
    "\n",
    "`gamma`: kernel coef. for 'rbf', 'poly' and 'sigmoid' kernels. It can be thought of as the ‘spread’ of the kernel and therefore the decision region.\n",
    "\n",
    "`degree`: degree for the 'poly' kernel.\n",
    "\n",
    "`coef0`: independt term in the 'poly' and 'sigmoid' kernels\n",
    "\n",
    "\n",
    "#### Random Forests\n",
    "\n",
    "`n_estimators`: number of trees in our random forest.\n",
    "\n",
    "`max_depth`: maximum number of levels in each decision tree\n",
    "\n",
    "`max_features`: maximum number of features to consider per split in an individual tree.\n",
    "\n",
    "`min_sample_leaf`: minimum number of data points per leaf node\n",
    "\n",
    "`min_samples_split`: minimum number of data points placed in a node before the node is split\n",
    "\n",
    "`oob_score`: the out-of-bag (OOB) error is the average error for each observation calculated using predictions from the trees that do not contain that observation in their respective bootstrap sample. Set this parameter to true.\n",
    "\n",
    "`bootstrap`: method for sampling data points (with or without replacement). Set this parameter to true.\n",
    "\n",
    "`criterion`: function used to measure the quality of the split (e.g. 'entropy' or 'gini')\n",
    "\n",
    "# Exercises\n",
    "\n",
    "## Support vector machines\n",
    "\n",
    "The  `make_blobs` and `make_circles` functions can be used to generate linearly and not linearly separable toy datasets. "
   ]
  },
  {
   "cell_type": "code",
   "execution_count": 3,
   "metadata": {},
   "outputs": [],
   "source": [
    "# data generation: linearly separable\n",
    "X, Y = make_blobs(n_samples=200, centers=2, n_features=2, random_state=1234)\n",
    "X = pd.DataFrame(X, columns=['x1', 'x2'])\n",
    "\n",
    "# splitting data into training and test set\n",
    "X_train, X_test, Y_train, Y_test = train_test_split(X, Y, test_size=0.33, random_state=333)"
   ]
  },
  {
   "cell_type": "markdown",
   "metadata": {},
   "source": [
    "The following code illustrates how to train a linear SVM classifier and plot the data points, the separating hyperplane, the support vectors and the margins that pass through them (considering the training data)"
   ]
  },
  {
   "cell_type": "code",
   "execution_count": 4,
   "metadata": {},
   "outputs": [
    {
     "data": {
      "image/png": "[encoded data removed]",
      "text/plain": [
       "<Figure size 432x288 with 1 Axes>"
      ]
     },
     "metadata": {
      "needs_background": "light"
     },
     "output_type": "display_data"
    }
   ],
   "source": [
    "import numpy as np\n",
    "import matplotlib.pyplot as plt\n",
    "\n",
    "# build the model\n",
    "model = svm.SVC(kernel='linear', random_state=33)\n",
    "model.fit(X_train, Y_train)\n",
    "# create plot\n",
    "fig, ax = plt.subplots()\n",
    "\n",
    "# get colors from qualitative colormap 'Paired'\n",
    "cmap = plt.cm.get_cmap('Paired')\n",
    "\n",
    "# plot data points\n",
    "ax.scatter(X_train.iloc[Y_train == 1, 0], X_train.iloc[Y_train == 1, 1],\n",
    "           c=[cmap(11)], label='1')\n",
    "ax.scatter(X_train.iloc[Y_train == 0, 0], X_train.iloc[Y_train == 0, 1],\n",
    "           c=[cmap(0)], label='0')\n",
    "ax.legend(loc='best')\n",
    "\n",
    "# plot the decision function\n",
    "# create grid to evaluate model\n",
    "x1_min, x1_max = X_train.iloc[:, 0].min() - 1, X_train.iloc[:, 0].max() + 1\n",
    "x2_min, x2_max = X_train.iloc[:, 1].min() - 1, X_train.iloc[:, 1].max() + 1\n",
    "\n",
    "XX, YY = np.meshgrid(np.arange(x1_min, x1_max, .2),\n",
    "                     np.arange(x2_min, x2_max, .2))\n",
    "\n",
    "xy = np.vstack([XX.ravel(), YY.ravel()]).T\n",
    "Z = model.decision_function(xy).reshape(XX.shape)\n",
    "\n",
    "# plot decision boundary and margins\n",
    "ax.contour(XX, YY, Z, colors='k', levels=[-1, 0, 1], alpha=0.5,\n",
    "           linestyles=['--', '-', '--'])\n",
    "\n",
    "# Establish the class for each point in the contour\n",
    "Z = model.predict(xy).reshape(XX.shape)\n",
    "\n",
    "# Visualization of the contour\n",
    "ax.contourf(XX, YY, Z, cmap='bwr', alpha=0.3)\n",
    "\n",
    "# plot support vectors, whose are responsible for building the margins\n",
    "ax.scatter(model.support_vectors_[:, 0], model.support_vectors_[:, 1], s=100,\n",
    "           linewidth=1, facecolors='none', edgecolors='k', marker='s')\n",
    "\n",
    "ax.axis([x1_min, x1_max, x2_min, x2_max])\n",
    "plt.axis('tight')\n",
    "plt.title('Linear kernel SVM')\n",
    "plt.show()"
   ]
  },
  {
   "cell_type": "markdown",
   "metadata": {},
   "source": [
    "Train a radial basis function (RBF) SVM classifier with `gamma=0.5` and plot the results in the same way."
   ]
  },
  {
   "cell_type": "code",
   "execution_count": 5,
   "metadata": {},
   "outputs": [],
   "source": [
    "# data generation: not linearly separable\n",
    "X, Y = make_circles(n_samples=200, noise=0.05, random_state=1234)\n",
    "X = pd.DataFrame(X, columns=['x1', 'x2'])\n",
    "\n",
    "# splitting data into training and test set\n",
    "X_train, X_test, Y_train, Y_test = train_test_split(X, Y, test_size=0.33, random_state=333)"
   ]
  },
  {
   "cell_type": "code",
   "execution_count": 6,
   "metadata": {},
   "outputs": [
    {
     "data": {
      "image/png": "[encoded data removed]",
      "text/plain": [
       "<Figure size 432x288 with 1 Axes>"
      ]
     },
     "metadata": {
      "needs_background": "light"
     },
     "output_type": "display_data"
    }
   ],
   "source": [
    "# build the model\n",
    "model = svm.SVC(kernel='rbf', random_state=33,gamma=0.5)\n",
    "model.fit(X_train, Y_train)\n",
    "\n",
    "# create plot\n",
    "fig, ax = plt.subplots()\n",
    "\n",
    "# get colors from qualitative colormap 'Paired'\n",
    "cmap = plt.cm.get_cmap('Paired')\n",
    "\n",
    "# plot data points\n",
    "ax.scatter(X_train.iloc[Y_train == 1, 0], X_train.iloc[Y_train == 1, 1],\n",
    "           c=[cmap(11)], label='1')\n",
    "ax.scatter(X_train.iloc[Y_train == 0, 0], X_train.iloc[Y_train == 0, 1],\n",
    "           c=[cmap(0)], label='0')\n",
    "ax.legend(loc='best')\n",
    "\n",
    "# plot the decision function\n",
    "# create grid to evaluate model\n",
    "x1_min, x1_max = X_train.iloc[:, 0].min() - 1, X_train.iloc[:, 0].max() + 1\n",
    "x2_min, x2_max = X_train.iloc[:, 1].min() - 1, X_train.iloc[:, 1].max() + 1\n",
    "\n",
    "XX, YY = np.meshgrid(np.arange(x1_min, x1_max, .2),\n",
    "                     np.arange(x2_min, x2_max, .2))\n",
    "\n",
    "xy = np.vstack([XX.ravel(), YY.ravel()]).T\n",
    "Z = model.decision_function(xy).reshape(XX.shape)\n",
    "\n",
    "# plot decision boundary and margins\n",
    "ax.contour(XX, YY, Z, colors='k', levels=[-1, 0, 1], alpha=0.5,\n",
    "           linestyles=['--', '-', '--'])\n",
    "\n",
    "# Establish the class for each point in the contour\n",
    "Z = model.predict(xy).reshape(XX.shape)\n",
    "\n",
    "# Visualization of the contour\n",
    "ax.contourf(XX, YY, Z, cmap='bwr', alpha=0.3)\n",
    "\n",
    "# plot support vectors, whose are responsible for building the margins\n",
    "ax.scatter(model.support_vectors_[:, 0], model.support_vectors_[:, 1], s=100,\n",
    "           linewidth=1, facecolors='none', edgecolors='k', marker='s')\n",
    "\n",
    "ax.axis([x1_min, x1_max, x2_min, x2_max])\n",
    "plt.axis('tight')\n",
    "plt.title('Linear kernel SVM')\n",
    "plt.show()"
   ]
  },
  {
   "cell_type": "markdown",
   "metadata": {},
   "source": [
    "<p><font color='#770a0a'>When should a RBF kernel be used over a linear kernel? Motivate your answer.</font></p>\n",
    "\n",
    "**Answer:** A RBF kernel should be used when the data can't be linearly seperated, but should be interpretable to read. Using quadratic, cubic, and even higher-roder polynomial functions of the predictors might make the problem linearly solvable but this can be at the cost of interpretability of the data.\n",
    "\n",
    "<p><font color='#770a0a'>Do we need to normalize the data before using a kernel function? Motivate your answer.\n",
    "</font></p>\n",
    "\n",
    "**Answer:** Yes you need to normalize the features, otherwise some are assumed to be more important when they have a larger range.\n"
   ]
  },
  {
   "cell_type": "markdown",
   "metadata": {},
   "source": [
    "## Predicting drug response on cell lines from gene expression data with SVMs\n",
    "\n",
    "Explore the hyper-parameter space of an SVM classifier with cross-validation for the Genomics of Drug Sensitivity in Cancer (GDSC) dataset. The`GridSearchCV` function can be used to specify a grid of parameter values with the `param_grid` parameter.\n",
    "\n",
    "Calculate the precision of your predictions, and compare your calculations with the results of `classification_report`, which displays many classification metrics."
   ]
  },
  {
   "cell_type": "code",
   "execution_count": 20,
   "metadata": {},
   "outputs": [
    {
     "name": "stdout",
     "output_type": "stream",
     "text": [
      "(118, 1)\n",
      "         YM155\n",
      "1298169      0\n",
      "749709       0\n",
      "905937       0\n",
      "910948       0\n",
      "906862       0\n",
      "...        ...\n",
      "1660036      1\n",
      "909757       1\n",
      "1509074      0\n",
      "908457       0\n",
      "717431       1\n",
      "\n",
      "[118 rows x 1 columns]\n",
      "{'SVM__C': 100, 'SVM__degree': 0, 'SVM__gamma': 0.001, 'SVM__kernel': 'rbf'}\n",
      "Pipeline(steps=[('std_scaler', StandardScaler()),\n",
      "                ('SVM', SVC(C=100, coef0=0, degree=0, gamma=0.001))])\n",
      "              precision    recall  f1-score   support\n",
      "\n",
      "           0       0.88      0.81      0.84        26\n",
      "           1       0.17      0.25      0.20         4\n",
      "\n",
      "    accuracy                           0.73        30\n",
      "   macro avg       0.52      0.53      0.52        30\n",
      "weighted avg       0.78      0.73      0.75        30\n",
      "\n"
     ]
    }
   ],
   "source": [
    "from sklearn.pipeline import Pipeline\n",
    "from sklearn.preprocessing import StandardScaler\n",
    "from sklearn import preprocessing\n",
    "\n",
    "X = gene_expression\n",
    "y = drug_response\n",
    "\n",
    "X_train, X_test, y_train, y_test = train_test_split(X, y, test_size=0.2, random_state = 40)\n",
    "\n",
    "ytrain_bin = (y_train > 0).astype(np.int)\n",
    "ytest_bin = (y_test > 0).astype(np.int)\n",
    "\n",
    "def SVMpipeline(kernel='rbf',C=0, random_state=33, gamma=0.5, degree=0):\n",
    "    return Pipeline ([\n",
    "    (\"std_scaler\", StandardScaler()), #scaling the samples with a standard scaler\n",
    "    ('SVM', svm.SVC(kernel, C, random_state,gamma,degree))\n",
    "    ])\n",
    "\n",
    "# creating an parameter grid for the kernel coef. (gamma), error term (C) and the type of kernel \n",
    "param_grid = {'SVM__gamma': [1,0.1,0.01,0.001,0.0001],\n",
    "              'SVM__C': [0.1,1,10,100,1000],\n",
    "              'SVM__kernel': ['rbf','linear'],\n",
    "              'SVM__degree': [0, 1, 2, 3, 4, 5, 6, 7, 8, 9, 10]}\n",
    "\n",
    "# Performing the gridsearch\n",
    "grid_search = GridSearchCV(SVMpipeline(), param_grid, cv=None, verbose=0)\n",
    "\n",
    "#Fitting the gridsearch model to the traindata\n",
    "grid_search.fit(X_train,ytrain_bin)\n",
    "\n",
    "#Extracting the best parameter after tuning\n",
    "best_param = grid_search.best_params_ \n",
    "#Printing the best parameter\n",
    "print(best_param)\n",
    "#Printing our model after hyper-parameter tuning\n",
    "print(grid_search.best_estimator_)\n",
    "\n",
    "# Predicting the gridfunction and plotting the classification report\n",
    "grid_pred = grid_search.predict(X_test)\n",
    "print(classification_report(ytest_bin, grid_pred))"
   ]
  },
  {
   "cell_type": "markdown",
   "metadata": {},
   "source": [
    "## Random forests\n",
    "\n",
    "Follow the same steps as for SVM. Compare the two algorithms and report which one has better performance.\n",
    "\n",
    "The random forests classifiers allows to perform feature selection. Evaluate the importance of features extracting the top 50 informative features. A bar plot (`plt.bar()`) can be a useful tool to visualize this. "
   ]
  },
  {
   "cell_type": "code",
   "execution_count": 48,
   "metadata": {},
   "outputs": [
    {
     "name": "stdout",
     "output_type": "stream",
     "text": [
      "{'forest__n_estimators': 500}\n",
      "Pipeline(steps=[('std_scaler', StandardScaler()),\n",
      "                ('forest', RandomForestClassifier(n_estimators=500))])\n",
      "              precision    recall  f1-score   support\n",
      "\n",
      "           0       0.93      0.96      0.94        26\n",
      "           1       0.67      0.50      0.57         4\n",
      "\n",
      "    accuracy                           0.90        30\n",
      "   macro avg       0.80      0.73      0.76        30\n",
      "weighted avg       0.89      0.90      0.89        30\n",
      "\n"
     ]
    }
   ],
   "source": [
    "from sklearn.pipeline import Pipeline\n",
    "from sklearn.preprocessing import StandardScaler\n",
    "from sklearn import preprocessing\n",
    "\n",
    "X = gene_expression\n",
    "y = drug_response\n",
    "\n",
    "X_train, X_test, y_train, y_test = train_test_split(X, y, test_size=0.2, random_state = 40)\n",
    "\n",
    "ytrain_bin = (y_train > 0).astype(np.int)\n",
    "ytest_bin = (y_test > 0).astype(np.int)\n",
    "\n",
    "def forestpipeline(n_estimators=1):#, max_depth=4,criterion='gini'):\n",
    "    return Pipeline ([\n",
    "    (\"std_scaler\", StandardScaler()), #scaling the samples with a standard scaler\n",
    "    ('forest', RandomForestClassifier(n_estimators))#, max_depth,criterion))\n",
    "    ])\n",
    "\n",
    "# creating an parameter grid\n",
    "param_grid = {'forest__n_estimators': [200,500]}#,\n",
    "              #'forest__max_features': ['auto','sqrt','log2'],\n",
    "              #'forest__max_depth': [4,5,6,7,8],\n",
    "              #'forest__criterion': ['gini','entropy']}\n",
    "\n",
    "# Performing the gridsearch\n",
    "grid_search = GridSearchCV(forestpipeline(), param_grid, cv=None, verbose=0)\n",
    "\n",
    "#Fitting the gridsearch model to the traindata\n",
    "grid_search.fit(X_train,ytrain_bin)\n",
    "\n",
    "#Extracting the best parameter after tuning\n",
    "best_param = grid_search.best_params_ \n",
    "#Printing the best parameter\n",
    "print(best_param)\n",
    "#Printing our model after hyper-parameter tuning\n",
    "print(grid_search.best_estimator_)\n",
    "\n",
    "# Predicting the gridfunction and plotting the classification report\n",
    "grid_pred = grid_search.predict(X_test)\n",
    "print(classification_report(ytest_bin, grid_pred))"
   ]
  },
  {
   "cell_type": "code",
   "execution_count": 81,
   "metadata": {},
   "outputs": [
    {
     "data": {
      "text/plain": [
       "([<matplotlib.axis.XTick at 0x238b3a3d9e8>,\n",
       "  <matplotlib.axis.XTick at 0x238b3a3d6a0>,\n",
       "  <matplotlib.axis.XTick at 0x238b3a3d2e8>,\n",
       "  <matplotlib.axis.XTick at 0x238b403fe10>,\n",
       "  <matplotlib.axis.XTick at 0x238b404f2e8>,\n",
       "  <matplotlib.axis.XTick at 0x238b404f780>,\n",
       "  <matplotlib.axis.XTick at 0x238b404fc18>,\n",
       "  <matplotlib.axis.XTick at 0x238b40560f0>,\n",
       "  <matplotlib.axis.XTick at 0x238b404f390>,\n",
       "  <matplotlib.axis.XTick at 0x238b4056390>,\n",
       "  <matplotlib.axis.XTick at 0x238b4056828>,\n",
       "  <matplotlib.axis.XTick at 0x238b4056cc0>,\n",
       "  <matplotlib.axis.XTick at 0x238b405f198>,\n",
       "  <matplotlib.axis.XTick at 0x238b405f630>,\n",
       "  <matplotlib.axis.XTick at 0x238b405fac8>,\n",
       "  <matplotlib.axis.XTick at 0x238b405ff60>,\n",
       "  <matplotlib.axis.XTick at 0x238b4069438>,\n",
       "  <matplotlib.axis.XTick at 0x238b4056ef0>,\n",
       "  <matplotlib.axis.XTick at 0x238b403fc50>,\n",
       "  <matplotlib.axis.XTick at 0x238b4069710>,\n",
       "  <matplotlib.axis.XTick at 0x238b4069ba8>,\n",
       "  <matplotlib.axis.XTick at 0x238b4071080>,\n",
       "  <matplotlib.axis.XTick at 0x238b4071518>,\n",
       "  <matplotlib.axis.XTick at 0x238b40719b0>,\n",
       "  <matplotlib.axis.XTick at 0x238b4071e48>,\n",
       "  <matplotlib.axis.XTick at 0x238b407b320>,\n",
       "  <matplotlib.axis.XTick at 0x238b40715c0>,\n",
       "  <matplotlib.axis.XTick at 0x238b4069128>,\n",
       "  <matplotlib.axis.XTick at 0x238b407b048>,\n",
       "  <matplotlib.axis.XTick at 0x238b407ba20>,\n",
       "  <matplotlib.axis.XTick at 0x238b407beb8>,\n",
       "  <matplotlib.axis.XTick at 0x238b4084390>,\n",
       "  <matplotlib.axis.XTick at 0x238b4084828>,\n",
       "  <matplotlib.axis.XTick at 0x238b4084cc0>,\n",
       "  <matplotlib.axis.XTick at 0x238b408e198>,\n",
       "  <matplotlib.axis.XTick at 0x238b4084940>,\n",
       "  <matplotlib.axis.XTick at 0x238b407b7f0>,\n",
       "  <matplotlib.axis.XTick at 0x238b408e208>,\n",
       "  <matplotlib.axis.XTick at 0x238b408e978>,\n",
       "  <matplotlib.axis.XTick at 0x238b408ee10>,\n",
       "  <matplotlib.axis.XTick at 0x238b40972e8>,\n",
       "  <matplotlib.axis.XTick at 0x238b4097780>,\n",
       "  <matplotlib.axis.XTick at 0x238b4097c18>,\n",
       "  <matplotlib.axis.XTick at 0x238b409f0f0>,\n",
       "  <matplotlib.axis.XTick at 0x238b4097940>,\n",
       "  <matplotlib.axis.XTick at 0x238b408ea90>,\n",
       "  <matplotlib.axis.XTick at 0x238b409f128>,\n",
       "  <matplotlib.axis.XTick at 0x238b409f8d0>,\n",
       "  <matplotlib.axis.XTick at 0x238b409fd68>,\n",
       "  <matplotlib.axis.XTick at 0x238b40a9240>],\n",
       " [Text(0, 0, 'ABCB1'),\n",
       "  Text(1, 0, 'PRSS3'),\n",
       "  Text(2, 0, 'TM4SF4'),\n",
       "  Text(3, 0, 'SYCP2'),\n",
       "  Text(4, 0, 'KRT7'),\n",
       "  Text(5, 0, 'CDH17'),\n",
       "  Text(6, 0, 'MUC13'),\n",
       "  Text(7, 0, 'EPS8L3'),\n",
       "  Text(8, 0, 'TSPAN8'),\n",
       "  Text(9, 0, 'PXDN'),\n",
       "  Text(10, 0, 'RPL39L'),\n",
       "  Text(11, 0, 'MIR205HG'),\n",
       "  Text(12, 0, 'CLRN3'),\n",
       "  Text(13, 0, 'PHGR1'),\n",
       "  Text(14, 0, 'FABP1'),\n",
       "  Text(15, 0, 'EPCAM'),\n",
       "  Text(16, 0, 'S100P'),\n",
       "  Text(17, 0, 'LGALS3'),\n",
       "  Text(18, 0, 'DUSP6'),\n",
       "  Text(19, 0, 'KRT20'),\n",
       "  Text(20, 0, 'IRX3'),\n",
       "  Text(21, 0, 'CDX2'),\n",
       "  Text(22, 0, 'PRR15L'),\n",
       "  Text(23, 0, 'GAL'),\n",
       "  Text(24, 0, 'LYZ'),\n",
       "  Text(25, 0, 'CYBA'),\n",
       "  Text(26, 0, 'TNNT1'),\n",
       "  Text(27, 0, 'NEFL'),\n",
       "  Text(28, 0, 'SERPINE2'),\n",
       "  Text(29, 0, 'ANXA4'),\n",
       "  Text(30, 0, 'SCG5'),\n",
       "  Text(31, 0, 'ALDH1A1'),\n",
       "  Text(32, 0, 'TFPI'),\n",
       "  Text(33, 0, 'FBP1'),\n",
       "  Text(34, 0, 'BST2'),\n",
       "  Text(35, 0, 'RARRES3'),\n",
       "  Text(36, 0, 'LGALS4'),\n",
       "  Text(37, 0, 'KIF26A'),\n",
       "  Text(38, 0, 'AKR1C3'),\n",
       "  Text(39, 0, 'INHBB'),\n",
       "  Text(40, 0, 'MYCN'),\n",
       "  Text(41, 0, 'CXCL2'),\n",
       "  Text(42, 0, 'S100A9'),\n",
       "  Text(43, 0, 'MYC'),\n",
       "  Text(44, 0, 'TUBA1A'),\n",
       "  Text(45, 0, 'HSPA1A'),\n",
       "  Text(46, 0, 'PLOD2'),\n",
       "  Text(47, 0, 'HTRA1'),\n",
       "  Text(48, 0, 'ACSL5'),\n",
       "  Text(49, 0, 'FAM127A')])"
      ]
     },
     "execution_count": 81,
     "metadata": {},
     "output_type": "execute_result"
    },
    {
     "data": {
      "image/png": "[encoded data removed]",
      "text/plain": [
       "<Figure size 1080x360 with 1 Axes>"
      ]
     },
     "metadata": {
      "needs_background": "light"
     },
     "output_type": "display_data"
    }
   ],
   "source": [
    "#Plotting the feature importances in a barplot\n",
    "model = grid_search.best_estimator_.named_steps['forest'].fit(X_train,ytrain_bin)\n",
    "imp = model.feature_importances_\n",
    "idx = np.argsort(imp)[::-1]\n",
    "i = idx[0:50]\n",
    "features = X.columns\n",
    "\n",
    "plt.figure(figsize=(15,5))\n",
    "plt.title('Feature Importances')\n",
    "plt.bar(range(len(i)), imp[i])\n",
    "plt.xticks(range(len(i)), features[i],rotation=90)"
   ]
  },
  {
   "cell_type": "markdown",
   "metadata": {},
   "source": [
    "## Predicting drug response on cell lines from gene expression data with SVMs\n",
    "\n",
    "Explore the hyper-parameter space of an SVM classifier with cross-validation for the Genomics of Drug Sensitivity in Cancer (GDSC) dataset. The`GridSearchCV` function can be used to specify a grid of parameter values with the `param_grid` parameter.\n",
    "\n",
    "Calculate the precision of your predictions, and compare your calculations with the results of `classification_report`, which displays many classification metrics.\n",
    "\n",
    "\n",
    "## Random forests\n",
    "\n",
    "Follow the same steps as for SVM. Compare the two algorithms and report which one has better performance.\n",
    "\n",
    "The random forests classifiers allows to perform feature selection. Evaluate the importance of features extracting the top 50 informative features. A bar plot (`plt.bar()`) can be a useful tool to visualize this. \n",
    "\n",
    "\n",
    "## Biomedical applications\n",
    "\n",
    "Driven by technological advances, there has recently been a dramatic increase in availability of biomedical data. Machine learning approaches are well suited to take advantage of this data and have been widely applied to many areas of biology. \n",
    "\n",
    "Example of these applications are genome annotation, biomarker identification, systems biology, genome data analysis, protein  function  prediction, protein  structure prediction, protein localization prediction, identification of protein interactions and drug discovery.\n",
    "\n",
    "SVM and RF methods are among the most popular machine learning methods applied in bioinformatics or computational biology.\n",
    "\n",
    "Perform a literature search and find a biomedical study in which SVM or RF is applied to obtain certain insights. <p><font color='#770a0a'>Explain the motivation behind using that specific algorithm in the study.\n",
    "</font></p>"
   ]
  },
  {
   "cell_type": "markdown",
   "metadata": {},
   "source": [
    "## Biomedical applications\n",
    "\n",
    "Driven by technological advances, there has recently been a dramatic increase in availability of biomedical data. Machine learning approaches are well suited to take advantage of this data and have been widely applied to many areas of biology. \n",
    "\n",
    "Example of these applications are genome annotation, biomarker identification, systems biology, genome data analysis, protein  function  prediction, protein  structure prediction, protein localization prediction, identification of protein interactions and drug discovery.\n",
    "\n",
    "SVM and RF methods are among the most popular machine learning methods applied in bioinformatics or computational biology.\n",
    "\n",
    "Perform a literature search and find a biomedical study in which SVM or RF is applied to obtain certain insights. <p><font color='#770a0a'>Explain the motivation behind using that specific algorithm in the study.\n",
    "</font></p>"
   ]
  }
 ],
 "metadata": {
  "kernelspec": {
   "display_name": "Python 3",
   "language": "python",
   "name": "python3"
  },
  "language_info": {
   "codemirror_mode": {
    "name": "ipython",
    "version": 3
   },
   "file_extension": ".py",
   "mimetype": "text/x-python",
   "name": "python",
   "nbconvert_exporter": "python",
   "pygments_lexer": "ipython3",
   "version": "3.6.10"
  }
 },
 "nbformat": 4,
 "nbformat_minor": 2
}
